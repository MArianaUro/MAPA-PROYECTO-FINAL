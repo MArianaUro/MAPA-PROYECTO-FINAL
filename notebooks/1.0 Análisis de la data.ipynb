{
 "cells": [
  {
   "cell_type": "markdown",
   "id": "903e6e1e",
   "metadata": {
    "id": "903e6e1e"
   },
   "source": [
    "**PROJECT:** \"Fraud prevention and detection\"\n",
    "\n",
    "**GROUP N°:** 8 - *MAPA, Connecting Ideas*\n",
    "\n",
    "**MEMBERS:** Mariana Uro - Pablo Tamayo\n",
    "\n",
    "**OBJECTIVE:** The project’s objetive is predict frauds over distance of financial transactions​.\n",
    "\n",
    "**DESCRIPTION OF THE VARIABLES:**\n",
    "\n",
    "    distance_from_home: the distance from home to where the transaction took place\n",
    "    distance_from_last_transaction: the distance from the last transaction \n",
    "    ratio_to_median_purchase_price: relationship between of the purchase Price and the average purchase price\n",
    "    repeat_retailer: the transaction from the retailer.\n",
    "    used_chip: is the transaction that was made using chip (credit card).\n",
    "    used_pin_number: is the transaction that was made using PIN number.\n",
    "    online_order: the transaction is an online order.\n",
    "    fraud: ¿Is the transaction a fraud?"
   ]
  },
  {
   "cell_type": "markdown",
   "id": "8d07106c",
   "metadata": {
    "id": "8d07106c"
   },
   "source": [
    " "
   ]
  },
  {
   "cell_type": "markdown",
   "id": "3add359d",
   "metadata": {
    "id": "3add359d"
   },
   "source": [
    "**SETUP DEL PROYECTO**"
   ]
  },
  {
   "cell_type": "markdown",
   "id": "d1b4bae3",
   "metadata": {
    "id": "d1b4bae3"
   },
   "source": [
    " "
   ]
  },
  {
   "cell_type": "markdown",
   "id": "aa9dbae5",
   "metadata": {
    "id": "aa9dbae5"
   },
   "source": [
    "**IMPORTACIÓN DE LIBRERÍAS**"
   ]
  },
  {
   "cell_type": "code",
   "execution_count": null,
   "id": "427794d6",
   "metadata": {
    "id": "427794d6"
   },
   "outputs": [],
   "source": [
    "# Numeric, scientific and data science libreries\n",
    "#============================================================================================================\n",
    "import pandas as pd\n",
    "import numpy as np\n",
    "from statsmodels.stats.outliers_influence import variance_inflation_factor\n",
    "import sidetable\n",
    "\n",
    "#Visualization\n",
    "#============================================================================================================\n",
    "import matplotlib.pyplot as plt\n",
    "import seaborn as sns\n",
    "import missingno as msno\n",
    "\n",
    "# Sklearn imports\n",
    "#============================================================================================================\n",
    "\n",
    "# Data Preprocessing\n",
    "from sklearn.preprocessing import quantile_transform\n",
    "from sklearn.preprocessing import Normalizer\n",
    "from sklearn.preprocessing import PowerTransformer\n",
    "\n",
    "# Data preparation for training\n",
    "from sklearn.model_selection import train_test_split\n",
    "from sklearn.model_selection import StratifiedKFold\n",
    "\n",
    "# Evaluation metrics and visualization\n",
    "from sklearn.metrics import recall_score\n",
    "from sklearn.metrics import confusion_matrix\n",
    "from sklearn.metrics import plot_confusion_matrix\n",
    "from sklearn.metrics import accuracy_score\n",
    "from sklearn.metrics import precision_score\n",
    "\n",
    "# Models from Sklearn and XGBOOST\n",
    "from sklearn.tree import DecisionTreeClassifier\n",
    "from sklearn.linear_model import LogisticRegression\n",
    "from sklearn.neighbors import KNeighborsClassifier\n",
    "import sklearn.neural_network\n",
    "from sklearn. ensemble import StackingClassifier\n",
    "from sklearn. ensemble import RandomForestClassifier\n",
    "import xgboost as xgb\n",
    "\n",
    "#Feature Importance\n",
    "from sklearn.inspection import permutation_importance"
   ]
  },
  {
   "cell_type": "markdown",
   "id": "91d79bbd",
   "metadata": {
    "id": "91d79bbd"
   },
   "source": [
    " "
   ]
  },
  {
   "cell_type": "markdown",
   "id": "67be4c37",
   "metadata": {
    "id": "67be4c37"
   },
   "source": [
    "**IMPORTACIÓN Y ANÁLISIS DEL DATASET**"
   ]
  },
  {
   "cell_type": "code",
   "execution_count": null,
   "id": "80c3a133",
   "metadata": {
    "id": "80c3a133",
    "outputId": "f5f883ae-dbed-48e4-f4c7-dfddba1c456d"
   },
   "outputs": [
    {
     "data": {
      "text/html": [
       "<div>\n",
       "<style scoped>\n",
       "    .dataframe tbody tr th:only-of-type {\n",
       "        vertical-align: middle;\n",
       "    }\n",
       "\n",
       "    .dataframe tbody tr th {\n",
       "        vertical-align: top;\n",
       "    }\n",
       "\n",
       "    .dataframe thead th {\n",
       "        text-align: right;\n",
       "    }\n",
       "</style>\n",
       "<table border=\"1\" class=\"dataframe\">\n",
       "  <thead>\n",
       "    <tr style=\"text-align: right;\">\n",
       "      <th></th>\n",
       "      <th>distance_from_home</th>\n",
       "      <th>distance_from_last_transaction</th>\n",
       "      <th>ratio_to_median_purchase_price</th>\n",
       "      <th>repeat_retailer</th>\n",
       "      <th>used_chip</th>\n",
       "      <th>used_pin_number</th>\n",
       "      <th>online_order</th>\n",
       "      <th>fraud</th>\n",
       "    </tr>\n",
       "  </thead>\n",
       "  <tbody>\n",
       "    <tr>\n",
       "      <th>0</th>\n",
       "      <td>57.877857</td>\n",
       "      <td>0.311140</td>\n",
       "      <td>1.945940</td>\n",
       "      <td>1.0</td>\n",
       "      <td>1.0</td>\n",
       "      <td>0.0</td>\n",
       "      <td>0.0</td>\n",
       "      <td>0.0</td>\n",
       "    </tr>\n",
       "    <tr>\n",
       "      <th>1</th>\n",
       "      <td>10.829943</td>\n",
       "      <td>0.175592</td>\n",
       "      <td>1.294219</td>\n",
       "      <td>1.0</td>\n",
       "      <td>0.0</td>\n",
       "      <td>0.0</td>\n",
       "      <td>0.0</td>\n",
       "      <td>0.0</td>\n",
       "    </tr>\n",
       "    <tr>\n",
       "      <th>2</th>\n",
       "      <td>5.091079</td>\n",
       "      <td>0.805153</td>\n",
       "      <td>0.427715</td>\n",
       "      <td>1.0</td>\n",
       "      <td>0.0</td>\n",
       "      <td>0.0</td>\n",
       "      <td>1.0</td>\n",
       "      <td>0.0</td>\n",
       "    </tr>\n",
       "    <tr>\n",
       "      <th>3</th>\n",
       "      <td>2.247564</td>\n",
       "      <td>5.600044</td>\n",
       "      <td>0.362663</td>\n",
       "      <td>1.0</td>\n",
       "      <td>1.0</td>\n",
       "      <td>0.0</td>\n",
       "      <td>1.0</td>\n",
       "      <td>0.0</td>\n",
       "    </tr>\n",
       "    <tr>\n",
       "      <th>4</th>\n",
       "      <td>44.190936</td>\n",
       "      <td>0.566486</td>\n",
       "      <td>2.222767</td>\n",
       "      <td>1.0</td>\n",
       "      <td>1.0</td>\n",
       "      <td>0.0</td>\n",
       "      <td>1.0</td>\n",
       "      <td>0.0</td>\n",
       "    </tr>\n",
       "  </tbody>\n",
       "</table>\n",
       "</div>"
      ],
      "text/plain": [
       "   distance_from_home  distance_from_last_transaction  \\\n",
       "0           57.877857                        0.311140   \n",
       "1           10.829943                        0.175592   \n",
       "2            5.091079                        0.805153   \n",
       "3            2.247564                        5.600044   \n",
       "4           44.190936                        0.566486   \n",
       "\n",
       "   ratio_to_median_purchase_price  repeat_retailer  used_chip  \\\n",
       "0                        1.945940              1.0        1.0   \n",
       "1                        1.294219              1.0        0.0   \n",
       "2                        0.427715              1.0        0.0   \n",
       "3                        0.362663              1.0        1.0   \n",
       "4                        2.222767              1.0        1.0   \n",
       "\n",
       "   used_pin_number  online_order  fraud  \n",
       "0              0.0           0.0    0.0  \n",
       "1              0.0           0.0    0.0  \n",
       "2              0.0           1.0    0.0  \n",
       "3              0.0           1.0    0.0  \n",
       "4              0.0           1.0    0.0  "
      ]
     },
     "execution_count": 2,
     "metadata": {},
     "output_type": "execute_result"
    }
   ],
   "source": [
    "# Importamos el dataset\n",
    "#============================================================================================================\n",
    "\n",
    "df_fraude_creditcard = pd.read_csv('card_transdata.csv')\n",
    "df_fraude_creditcard.head()"
   ]
  },
  {
   "cell_type": "markdown",
   "id": "ab8864a6",
   "metadata": {
    "id": "ab8864a6"
   },
   "source": [
    " "
   ]
  },
  {
   "cell_type": "code",
   "execution_count": null,
   "id": "505ae593",
   "metadata": {
    "id": "505ae593",
    "outputId": "7236c11f-6392-4e10-8df0-fd6135f4cc98"
   },
   "outputs": [
    {
     "data": {
      "text/plain": [
       "(1000000, 8)"
      ]
     },
     "execution_count": 3,
     "metadata": {},
     "output_type": "execute_result"
    }
   ],
   "source": [
    "# Calculamos el tamaño del dataset\n",
    "#============================================================================================================\n",
    "\n",
    "df_fraude_creditcard.shape"
   ]
  },
  {
   "cell_type": "markdown",
   "id": "53af1202",
   "metadata": {
    "id": "53af1202"
   },
   "source": [
    "\n",
    " "
   ]
  },
  {
   "cell_type": "code",
   "execution_count": null,
   "id": "38143bc1",
   "metadata": {
    "id": "38143bc1",
    "outputId": "a200fb65-9431-4430-9f35-1745f9f02b12"
   },
   "outputs": [
    {
     "data": {
      "text/plain": [
       "['distance_from_home',\n",
       " 'distance_from_last_transaction',\n",
       " 'ratio_to_median_purchase_price',\n",
       " 'repeat_retailer',\n",
       " 'used_chip',\n",
       " 'used_pin_number',\n",
       " 'online_order',\n",
       " 'fraud']"
      ]
     },
     "execution_count": 4,
     "metadata": {},
     "output_type": "execute_result"
    }
   ],
   "source": [
    "# Mostramos el nombre de las variables del dataset en forma de lista\n",
    "#============================================================================================================\n",
    "\n",
    "df_fraude_creditcard.columns.values.tolist()"
   ]
  },
  {
   "cell_type": "markdown",
   "id": "d57fc157",
   "metadata": {
    "id": "d57fc157"
   },
   "source": [
    " "
   ]
  },
  {
   "cell_type": "code",
   "execution_count": null,
   "id": "df57ea44",
   "metadata": {
    "id": "df57ea44",
    "outputId": "f6895707-1151-401a-fdc9-70cc7dced3ef"
   },
   "outputs": [
    {
     "data": {
      "text/plain": [
       "distance_from_home                1000000\n",
       "distance_from_last_transaction    1000000\n",
       "ratio_to_median_purchase_price    1000000\n",
       "repeat_retailer                   1000000\n",
       "used_chip                         1000000\n",
       "used_pin_number                   1000000\n",
       "online_order                      1000000\n",
       "fraud                             1000000\n",
       "dtype: int64"
      ]
     },
     "execution_count": 5,
     "metadata": {},
     "output_type": "execute_result"
    }
   ],
   "source": [
    "# Calculamos la cantidad de datos por variable\n",
    "#============================================================================================================\n",
    "\n",
    "df_fraude_creditcard.count()"
   ]
  },
  {
   "cell_type": "markdown",
   "id": "bc614207",
   "metadata": {
    "id": "bc614207"
   },
   "source": [
    " "
   ]
  },
  {
   "cell_type": "code",
   "execution_count": null,
   "id": "60c2088a",
   "metadata": {
    "id": "60c2088a",
    "outputId": "b0366789-eea7-4468-f82e-9cf2568e63fe"
   },
   "outputs": [
    {
     "data": {
      "text/plain": [
       "<AxesSubplot:>"
      ]
     },
     "execution_count": 6,
     "metadata": {},
     "output_type": "execute_result"
    },
    {
     "data": {
      "image/png": "[encoded data removed]",
      "text/plain": [
       "<Figure size 1800x720 with 2 Axes>"
      ]
     },
     "metadata": {
      "needs_background": "light"
     },
     "output_type": "display_data"
    }
   ],
   "source": [
    "# Verificamos la existencia de datos \"Nan\" gráficamente.\n",
    "#============================================================================================================\n",
    "\n",
    "msno.matrix(df_fraude_creditcard)"
   ]
  },
  {
   "cell_type": "markdown",
   "id": "8f51507d",
   "metadata": {
    "id": "8f51507d"
   },
   "source": [
    "A partir de este gráfico, podemos vemos que el dataset no tiene valores Nan, ya que no hay espacios blancos. \n",
    "\n",
    "Tener en cuenta que:\n",
    "    \n",
    "    Blanco: sin valores o Nan\n",
    "    Negro: con valores"
   ]
  },
  {
   "cell_type": "markdown",
   "id": "cd933af6",
   "metadata": {
    "id": "cd933af6"
   },
   "source": [
    " "
   ]
  },
  {
   "cell_type": "code",
   "execution_count": null,
   "id": "b2bdced6",
   "metadata": {
    "id": "b2bdced6",
    "outputId": "4e5a0ba6-e48b-4ea8-b6dd-d95ee7f0b84b"
   },
   "outputs": [
    {
     "data": {
      "text/plain": [
       "distance_from_home                float64\n",
       "distance_from_last_transaction    float64\n",
       "ratio_to_median_purchase_price    float64\n",
       "repeat_retailer                   float64\n",
       "used_chip                         float64\n",
       "used_pin_number                   float64\n",
       "online_order                      float64\n",
       "fraud                             float64\n",
       "dtype: object"
      ]
     },
     "execution_count": 7,
     "metadata": {},
     "output_type": "execute_result"
    }
   ],
   "source": [
    "# Analizamos el tipo de dato\n",
    "#============================================================================================================\n",
    "\n",
    "df_fraude_creditcard.dtypes"
   ]
  },
  {
   "cell_type": "code",
   "execution_count": null,
   "id": "00534387",
   "metadata": {
    "id": "00534387",
    "outputId": "d782716f-9ec3-45e6-ae1c-b526721a9b3d"
   },
   "outputs": [
    {
     "data": {
      "text/plain": [
       "array([1., 0.])"
      ]
     },
     "execution_count": 8,
     "metadata": {},
     "output_type": "execute_result"
    }
   ],
   "source": [
    "# Analizamos los valores unicos de las variables que en principio parecen tener datos binarios\n",
    "#============================================================================================================\n",
    "\n",
    "df_fraude_creditcard['repeat_retailer'].unique()"
   ]
  },
  {
   "cell_type": "code",
   "execution_count": null,
   "id": "4b90e40c",
   "metadata": {
    "id": "4b90e40c",
    "outputId": "0e1c4b75-6b23-4e33-95a2-6116fe611f0d"
   },
   "outputs": [
    {
     "data": {
      "text/plain": [
       "array([1., 0.])"
      ]
     },
     "execution_count": 9,
     "metadata": {},
     "output_type": "execute_result"
    }
   ],
   "source": [
    "df_fraude_creditcard['used_chip'].unique()"
   ]
  },
  {
   "cell_type": "code",
   "execution_count": null,
   "id": "ad11456d",
   "metadata": {
    "id": "ad11456d",
    "outputId": "036fd5bb-3a52-47d1-b0ff-5655b40cd215"
   },
   "outputs": [
    {
     "data": {
      "text/plain": [
       "array([0., 1.])"
      ]
     },
     "execution_count": 10,
     "metadata": {},
     "output_type": "execute_result"
    }
   ],
   "source": [
    "df_fraude_creditcard['used_pin_number'].unique()"
   ]
  },
  {
   "cell_type": "code",
   "execution_count": null,
   "id": "9dbfe4de",
   "metadata": {
    "id": "9dbfe4de",
    "outputId": "59e7080d-2c01-4d38-d252-618193aeea7e"
   },
   "outputs": [
    {
     "data": {
      "text/plain": [
       "array([0., 1.])"
      ]
     },
     "execution_count": 11,
     "metadata": {},
     "output_type": "execute_result"
    }
   ],
   "source": [
    "df_fraude_creditcard['online_order'].unique()"
   ]
  },
  {
   "cell_type": "code",
   "execution_count": null,
   "id": "df5a7706",
   "metadata": {
    "id": "df5a7706",
    "outputId": "fc494540-79a8-4edd-bdfc-9757b4e1c5e0"
   },
   "outputs": [
    {
     "data": {
      "text/plain": [
       "array([0., 1.])"
      ]
     },
     "execution_count": 12,
     "metadata": {},
     "output_type": "execute_result"
    }
   ],
   "source": [
    "df_fraude_creditcard['fraud'].unique()"
   ]
  },
  {
   "cell_type": "markdown",
   "id": "1aa2c1bd",
   "metadata": {
    "id": "1aa2c1bd"
   },
   "source": [
    "**Conclusión del análisis:** Tal como se puede ver en las variables analizadas, todas ellas tienen datos binarios. Podrían transformarse en variables categóricas, pero por ahora mantendremos su tipo para un mejor análisis."
   ]
  },
  {
   "cell_type": "markdown",
   "id": "0670ce23",
   "metadata": {
    "id": "0670ce23"
   },
   "source": [
    " "
   ]
  },
  {
   "cell_type": "code",
   "execution_count": null,
   "id": "a0dccd02",
   "metadata": {
    "id": "a0dccd02",
    "outputId": "6f396f2f-2348-4af5-df15-e0698cf52243",
    "scrolled": true
   },
   "outputs": [
    {
     "data": {
      "text/html": [
       "<div>\n",
       "<style scoped>\n",
       "    .dataframe tbody tr th:only-of-type {\n",
       "        vertical-align: middle;\n",
       "    }\n",
       "\n",
       "    .dataframe tbody tr th {\n",
       "        vertical-align: top;\n",
       "    }\n",
       "\n",
       "    .dataframe thead th {\n",
       "        text-align: right;\n",
       "    }\n",
       "</style>\n",
       "<table border=\"1\" class=\"dataframe\">\n",
       "  <thead>\n",
       "    <tr style=\"text-align: right;\">\n",
       "      <th></th>\n",
       "      <th>distance_from_home</th>\n",
       "      <th>distance_from_last_transaction</th>\n",
       "      <th>ratio_to_median_purchase_price</th>\n",
       "      <th>repeat_retailer</th>\n",
       "      <th>used_chip</th>\n",
       "      <th>used_pin_number</th>\n",
       "      <th>online_order</th>\n",
       "      <th>fraud</th>\n",
       "    </tr>\n",
       "  </thead>\n",
       "  <tbody>\n",
       "    <tr>\n",
       "      <th>count</th>\n",
       "      <td>1000000.00</td>\n",
       "      <td>1000000.00</td>\n",
       "      <td>1000000.00</td>\n",
       "      <td>1000000.00</td>\n",
       "      <td>1000000.00</td>\n",
       "      <td>1000000.0</td>\n",
       "      <td>1000000.00</td>\n",
       "      <td>1000000.00</td>\n",
       "    </tr>\n",
       "    <tr>\n",
       "      <th>mean</th>\n",
       "      <td>26.63</td>\n",
       "      <td>5.04</td>\n",
       "      <td>1.82</td>\n",
       "      <td>0.88</td>\n",
       "      <td>0.35</td>\n",
       "      <td>0.1</td>\n",
       "      <td>0.65</td>\n",
       "      <td>0.09</td>\n",
       "    </tr>\n",
       "    <tr>\n",
       "      <th>std</th>\n",
       "      <td>65.39</td>\n",
       "      <td>25.84</td>\n",
       "      <td>2.80</td>\n",
       "      <td>0.32</td>\n",
       "      <td>0.48</td>\n",
       "      <td>0.3</td>\n",
       "      <td>0.48</td>\n",
       "      <td>0.28</td>\n",
       "    </tr>\n",
       "    <tr>\n",
       "      <th>min</th>\n",
       "      <td>0.00</td>\n",
       "      <td>0.00</td>\n",
       "      <td>0.00</td>\n",
       "      <td>0.00</td>\n",
       "      <td>0.00</td>\n",
       "      <td>0.0</td>\n",
       "      <td>0.00</td>\n",
       "      <td>0.00</td>\n",
       "    </tr>\n",
       "    <tr>\n",
       "      <th>25%</th>\n",
       "      <td>3.88</td>\n",
       "      <td>0.30</td>\n",
       "      <td>0.48</td>\n",
       "      <td>1.00</td>\n",
       "      <td>0.00</td>\n",
       "      <td>0.0</td>\n",
       "      <td>0.00</td>\n",
       "      <td>0.00</td>\n",
       "    </tr>\n",
       "    <tr>\n",
       "      <th>50%</th>\n",
       "      <td>9.97</td>\n",
       "      <td>1.00</td>\n",
       "      <td>1.00</td>\n",
       "      <td>1.00</td>\n",
       "      <td>0.00</td>\n",
       "      <td>0.0</td>\n",
       "      <td>1.00</td>\n",
       "      <td>0.00</td>\n",
       "    </tr>\n",
       "    <tr>\n",
       "      <th>75%</th>\n",
       "      <td>25.74</td>\n",
       "      <td>3.36</td>\n",
       "      <td>2.10</td>\n",
       "      <td>1.00</td>\n",
       "      <td>1.00</td>\n",
       "      <td>0.0</td>\n",
       "      <td>1.00</td>\n",
       "      <td>0.00</td>\n",
       "    </tr>\n",
       "    <tr>\n",
       "      <th>max</th>\n",
       "      <td>10632.72</td>\n",
       "      <td>11851.10</td>\n",
       "      <td>267.80</td>\n",
       "      <td>1.00</td>\n",
       "      <td>1.00</td>\n",
       "      <td>1.0</td>\n",
       "      <td>1.00</td>\n",
       "      <td>1.00</td>\n",
       "    </tr>\n",
       "  </tbody>\n",
       "</table>\n",
       "</div>"
      ],
      "text/plain": [
       "       distance_from_home  distance_from_last_transaction  \\\n",
       "count          1000000.00                      1000000.00   \n",
       "mean                26.63                            5.04   \n",
       "std                 65.39                           25.84   \n",
       "min                  0.00                            0.00   \n",
       "25%                  3.88                            0.30   \n",
       "50%                  9.97                            1.00   \n",
       "75%                 25.74                            3.36   \n",
       "max              10632.72                        11851.10   \n",
       "\n",
       "       ratio_to_median_purchase_price  repeat_retailer   used_chip  \\\n",
       "count                      1000000.00       1000000.00  1000000.00   \n",
       "mean                             1.82             0.88        0.35   \n",
       "std                              2.80             0.32        0.48   \n",
       "min                              0.00             0.00        0.00   \n",
       "25%                              0.48             1.00        0.00   \n",
       "50%                              1.00             1.00        0.00   \n",
       "75%                              2.10             1.00        1.00   \n",
       "max                            267.80             1.00        1.00   \n",
       "\n",
       "       used_pin_number  online_order       fraud  \n",
       "count        1000000.0    1000000.00  1000000.00  \n",
       "mean               0.1          0.65        0.09  \n",
       "std                0.3          0.48        0.28  \n",
       "min                0.0          0.00        0.00  \n",
       "25%                0.0          0.00        0.00  \n",
       "50%                0.0          1.00        0.00  \n",
       "75%                0.0          1.00        0.00  \n",
       "max                1.0          1.00        1.00  "
      ]
     },
     "execution_count": 13,
     "metadata": {},
     "output_type": "execute_result"
    }
   ],
   "source": [
    "# Realizamos un análisis de las principales medidas estadísticas \n",
    "#============================================================================================================\n",
    "\n",
    "df_fraude_creditcard.describe().round(2)"
   ]
  },
  {
   "cell_type": "markdown",
   "id": "c1797bf2",
   "metadata": {
    "id": "c1797bf2"
   },
   "source": [
    "**Conclusión del análisis:** Se puede observar que en las 2 primeras variables, hay mucha distancia entre el mínimo y el máximo. En este sentido, la mediana o el 2° quartil están muy alejado del valor máximo, lo que en prinicpio nos que pueden existir muchos outsider.   "
   ]
  },
  {
   "cell_type": "code",
   "execution_count": null,
   "id": "ea401a07",
   "metadata": {},
   "outputs": [],
   "source": []
  }
 ],
 "metadata": {
  "colab": {
   "provenance": []
  },
  "kernelspec": {
   "display_name": "Python 3 (ipykernel)",
   "language": "python",
   "name": "python3"
  },
  "language_info": {
   "codemirror_mode": {
    "name": "ipython",
    "version": 3
   },
   "file_extension": ".py",
   "mimetype": "text/x-python",
   "name": "python",
   "nbconvert_exporter": "python",
   "pygments_lexer": "ipython3",
   "version": "3.9.7"
  }
 },
 "nbformat": 4,
 "nbformat_minor": 5
}
