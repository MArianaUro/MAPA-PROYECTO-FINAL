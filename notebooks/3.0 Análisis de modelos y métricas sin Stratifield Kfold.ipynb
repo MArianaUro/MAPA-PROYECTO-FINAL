{
  "cells": [
    {
      "cell_type": "markdown",
      "id": "903e6e1e",
      "metadata": {
        "id": "903e6e1e"
      },
      "source": [
        "**PROJECT:** \"Fraud prevention and detection\"\n",
        "\n",
        "**GROUP N°:** 8 - *MAPA, Connecting Ideas*\n",
        "\n",
        "**MEMBERS:** Mariana Uro - Pablo Tamayo\n",
        "\n",
        "**OBJECTIVE:** The project’s objetive is predict frauds over distance of financial transactions​.\n",
        "\n",
        "**DESCRIPTION OF THE VARIABLES:**\n",
        "\n",
        "    distance_from_home: the distance from home to where the transaction took place\n",
        "    distance_from_last_transaction: the distance from the last transaction \n",
        "    ratio_to_median_purchase_price: relationship between of the purchase Price and the average purchase price\n",
        "    repeat_retailer: the transaction from the retailer.\n",
        "    used_chip: is the transaction that was made using chip (credit card).\n",
        "    used_pin_number: is the transaction that was made using PIN number.\n",
        "    online_order: the transaction is an online order.\n",
        "    fraud: ¿Is the transaction a fraud?"
      ]
    },
    {
      "cell_type": "markdown",
      "id": "8d07106c",
      "metadata": {
        "id": "8d07106c"
      },
      "source": [
        " "
      ]
    },
    {
      "cell_type": "markdown",
      "id": "3add359d",
      "metadata": {
        "id": "3add359d"
      },
      "source": [
        "**SETUP DEL PROYECTO**"
      ]
    },
    {
      "cell_type": "markdown",
      "id": "d1b4bae3",
      "metadata": {
        "id": "d1b4bae3"
      },
      "source": [
        " "
      ]
    },
    {
      "cell_type": "markdown",
      "id": "aa9dbae5",
      "metadata": {
        "id": "aa9dbae5"
      },
      "source": [
        "**IMPORTACIÓN DE LIBRERÍAS**"
      ]
    },
    {
      "cell_type": "code",
      "execution_count": null,
      "id": "427794d6",
      "metadata": {
        "id": "427794d6"
      },
      "outputs": [],
      "source": [
        "# Numeric, scientific and data science libreries\n",
        "#============================================================================================================\n",
        "import pandas as pd\n",
        "import numpy as np\n",
        "from statsmodels.stats.outliers_influence import variance_inflation_factor\n",
        "import sidetable\n",
        "\n",
        "#Visualization\n",
        "#============================================================================================================\n",
        "import matplotlib.pyplot as plt\n",
        "import seaborn as sns\n",
        "import missingno as msno\n",
        "\n",
        "# Sklearn imports\n",
        "#============================================================================================================\n",
        "\n",
        "# Data Preprocessing\n",
        "from sklearn.preprocessing import quantile_transform\n",
        "from sklearn.preprocessing import Normalizer\n",
        "from sklearn.preprocessing import PowerTransformer\n",
        "\n",
        "# Data preparation for training\n",
        "from sklearn.model_selection import train_test_split\n",
        "from sklearn.model_selection import StratifiedKFold\n",
        "\n",
        "# Evaluation metrics and visualization\n",
        "from sklearn.metrics import recall_score\n",
        "from sklearn.metrics import confusion_matrix\n",
        "from sklearn.metrics import plot_confusion_matrix\n",
        "from sklearn.metrics import accuracy_score\n",
        "from sklearn.metrics import precision_score\n",
        "\n",
        "# Models from Sklearn and XGBOOST\n",
        "from sklearn.tree import DecisionTreeClassifier\n",
        "from sklearn.linear_model import LogisticRegression\n",
        "from sklearn.neighbors import KNeighborsClassifier\n",
        "import sklearn.neural_network\n",
        "from sklearn. ensemble import StackingClassifier\n",
        "from sklearn. ensemble import RandomForestClassifier\n",
        "import xgboost as xgb\n",
        "\n",
        "#Feature Importance\n",
        "from sklearn.inspection import permutation_importance"
      ]
    },
    {
      "cell_type": "markdown",
      "id": "91d79bbd",
      "metadata": {
        "id": "91d79bbd"
      },
      "source": [
        " "
      ]
    },
    {
      "cell_type": "markdown",
      "id": "67be4c37",
      "metadata": {
        "id": "67be4c37"
      },
      "source": [
        "**IMPORTACIÓN Y ANÁLISIS DEL DATASET**"
      ]
    },
    {
      "cell_type": "code",
      "execution_count": null,
      "id": "80c3a133",
      "metadata": {
        "id": "80c3a133",
        "outputId": "f5f883ae-dbed-48e4-f4c7-dfddba1c456d"
      },
      "outputs": [
        {
          "data": {
            "text/html": [
              "<div>\n",
              "<style scoped>\n",
              "    .dataframe tbody tr th:only-of-type {\n",
              "        vertical-align: middle;\n",
              "    }\n",
              "\n",
              "    .dataframe tbody tr th {\n",
              "        vertical-align: top;\n",
              "    }\n",
              "\n",
              "    .dataframe thead th {\n",
              "        text-align: right;\n",
              "    }\n",
              "</style>\n",
              "<table border=\"1\" class=\"dataframe\">\n",
              "  <thead>\n",
              "    <tr style=\"text-align: right;\">\n",
              "      <th></th>\n",
              "      <th>distance_from_home</th>\n",
              "      <th>distance_from_last_transaction</th>\n",
              "      <th>ratio_to_median_purchase_price</th>\n",
              "      <th>repeat_retailer</th>\n",
              "      <th>used_chip</th>\n",
              "      <th>used_pin_number</th>\n",
              "      <th>online_order</th>\n",
              "      <th>fraud</th>\n",
              "    </tr>\n",
              "  </thead>\n",
              "  <tbody>\n",
              "    <tr>\n",
              "      <th>0</th>\n",
              "      <td>57.877857</td>\n",
              "      <td>0.311140</td>\n",
              "      <td>1.945940</td>\n",
              "      <td>1.0</td>\n",
              "      <td>1.0</td>\n",
              "      <td>0.0</td>\n",
              "      <td>0.0</td>\n",
              "      <td>0.0</td>\n",
              "    </tr>\n",
              "    <tr>\n",
              "      <th>1</th>\n",
              "      <td>10.829943</td>\n",
              "      <td>0.175592</td>\n",
              "      <td>1.294219</td>\n",
              "      <td>1.0</td>\n",
              "      <td>0.0</td>\n",
              "      <td>0.0</td>\n",
              "      <td>0.0</td>\n",
              "      <td>0.0</td>\n",
              "    </tr>\n",
              "    <tr>\n",
              "      <th>2</th>\n",
              "      <td>5.091079</td>\n",
              "      <td>0.805153</td>\n",
              "      <td>0.427715</td>\n",
              "      <td>1.0</td>\n",
              "      <td>0.0</td>\n",
              "      <td>0.0</td>\n",
              "      <td>1.0</td>\n",
              "      <td>0.0</td>\n",
              "    </tr>\n",
              "    <tr>\n",
              "      <th>3</th>\n",
              "      <td>2.247564</td>\n",
              "      <td>5.600044</td>\n",
              "      <td>0.362663</td>\n",
              "      <td>1.0</td>\n",
              "      <td>1.0</td>\n",
              "      <td>0.0</td>\n",
              "      <td>1.0</td>\n",
              "      <td>0.0</td>\n",
              "    </tr>\n",
              "    <tr>\n",
              "      <th>4</th>\n",
              "      <td>44.190936</td>\n",
              "      <td>0.566486</td>\n",
              "      <td>2.222767</td>\n",
              "      <td>1.0</td>\n",
              "      <td>1.0</td>\n",
              "      <td>0.0</td>\n",
              "      <td>1.0</td>\n",
              "      <td>0.0</td>\n",
              "    </tr>\n",
              "  </tbody>\n",
              "</table>\n",
              "</div>"
            ],
            "text/plain": [
              "   distance_from_home  distance_from_last_transaction  \\\n",
              "0           57.877857                        0.311140   \n",
              "1           10.829943                        0.175592   \n",
              "2            5.091079                        0.805153   \n",
              "3            2.247564                        5.600044   \n",
              "4           44.190936                        0.566486   \n",
              "\n",
              "   ratio_to_median_purchase_price  repeat_retailer  used_chip  \\\n",
              "0                        1.945940              1.0        1.0   \n",
              "1                        1.294219              1.0        0.0   \n",
              "2                        0.427715              1.0        0.0   \n",
              "3                        0.362663              1.0        1.0   \n",
              "4                        2.222767              1.0        1.0   \n",
              "\n",
              "   used_pin_number  online_order  fraud  \n",
              "0              0.0           0.0    0.0  \n",
              "1              0.0           0.0    0.0  \n",
              "2              0.0           1.0    0.0  \n",
              "3              0.0           1.0    0.0  \n",
              "4              0.0           1.0    0.0  "
            ]
          },
          "execution_count": 2,
          "metadata": {},
          "output_type": "execute_result"
        }
      ],
      "source": [
        "# Importamos el dataset\n",
        "#============================================================================================================\n",
        "\n",
        "df_fraude_creditcard = pd.read_csv('card_transdata.csv')\n",
        "df_fraude_creditcard.head()"
      ]
    },
    {
      "cell_type": "markdown",
      "id": "ab8864a6",
      "metadata": {
        "id": "ab8864a6"
      },
      "source": [
        " "
      ]
    },
    {
      "cell_type": "code",
      "execution_count": null,
      "id": "505ae593",
      "metadata": {
        "id": "505ae593",
        "outputId": "7236c11f-6392-4e10-8df0-fd6135f4cc98"
      },
      "outputs": [
        {
          "data": {
            "text/plain": [
              "(1000000, 8)"
            ]
          },
          "execution_count": 3,
          "metadata": {},
          "output_type": "execute_result"
        }
      ],
      "source": [
        "# Calculamos el tamaño del dataset\n",
        "#============================================================================================================\n",
        "\n",
        "df_fraude_creditcard.shape"
      ]
    },
    {
      "cell_type": "markdown",
      "id": "53af1202",
      "metadata": {
        "id": "53af1202"
      },
      "source": [
        "\n",
        " "
      ]
    },
    {
      "cell_type": "code",
      "execution_count": null,
      "id": "38143bc1",
      "metadata": {
        "id": "38143bc1",
        "outputId": "a200fb65-9431-4430-9f35-1745f9f02b12"
      },
      "outputs": [
        {
          "data": {
            "text/plain": [
              "['distance_from_home',\n",
              " 'distance_from_last_transaction',\n",
              " 'ratio_to_median_purchase_price',\n",
              " 'repeat_retailer',\n",
              " 'used_chip',\n",
              " 'used_pin_number',\n",
              " 'online_order',\n",
              " 'fraud']"
            ]
          },
          "execution_count": 4,
          "metadata": {},
          "output_type": "execute_result"
        }
      ],
      "source": [
        "# Mostramos el nombre de las variables del dataset en forma de lista\n",
        "#============================================================================================================\n",
        "\n",
        "df_fraude_creditcard.columns.values.tolist()"
      ]
    },
    {
      "cell_type": "markdown",
      "id": "d57fc157",
      "metadata": {
        "id": "d57fc157"
      },
      "source": [
        " "
      ]
    },
    {
      "cell_type": "code",
      "execution_count": null,
      "id": "df57ea44",
      "metadata": {
        "id": "df57ea44",
        "outputId": "f6895707-1151-401a-fdc9-70cc7dced3ef"
      },
      "outputs": [
        {
          "data": {
            "text/plain": [
              "distance_from_home                1000000\n",
              "distance_from_last_transaction    1000000\n",
              "ratio_to_median_purchase_price    1000000\n",
              "repeat_retailer                   1000000\n",
              "used_chip                         1000000\n",
              "used_pin_number                   1000000\n",
              "online_order                      1000000\n",
              "fraud                             1000000\n",
              "dtype: int64"
            ]
          },
          "execution_count": 5,
          "metadata": {},
          "output_type": "execute_result"
        }
      ],
      "source": [
        "# Calculamos la cantidad de datos por variable\n",
        "#============================================================================================================\n",
        "\n",
        "df_fraude_creditcard.count()"
      ]
    },
    {
      "cell_type": "markdown",
      "id": "bc614207",
      "metadata": {
        "id": "bc614207"
      },
      "source": [
        " "
      ]
    },
    {
      "cell_type": "code",
      "execution_count": null,
      "id": "60c2088a",
      "metadata": {
        "id": "60c2088a",
        "outputId": "b0366789-eea7-4468-f82e-9cf2568e63fe"
      },
      "outputs": [
        {
          "data": {
            "text/plain": [
              "<AxesSubplot:>"
            ]
          },
          "execution_count": 6,
          "metadata": {},
          "output_type": "execute_result"
        },
        {
          "data": {
            "image/png": "[encoded data removed]",
            "text/plain": [
              "<Figure size 1800x720 with 2 Axes>"
            ]
          },
          "metadata": {
            "needs_background": "light"
          },
          "output_type": "display_data"
        }
      ],
      "source": [
        "# Verificamos la existencia de datos \"Nan\" gráficamente.\n",
        "#============================================================================================================\n",
        "\n",
        "msno.matrix(df_fraude_creditcard)"
      ]
    },
    {
      "cell_type": "markdown",
      "id": "8f51507d",
      "metadata": {
        "id": "8f51507d"
      },
      "source": [
        "A partir de este gráfico, podemos vemos que el dataset no tiene valores Nan, ya que no hay espacios blancos. \n",
        "\n",
        "Tener en cuenta que:\n",
        "    \n",
        "    Blanco: sin valores o Nan\n",
        "    Negro: con valores"
      ]
    },
    {
      "cell_type": "markdown",
      "id": "cd933af6",
      "metadata": {
        "id": "cd933af6"
      },
      "source": [
        " "
      ]
    },
    {
      "cell_type": "code",
      "execution_count": null,
      "id": "b2bdced6",
      "metadata": {
        "id": "b2bdced6",
        "outputId": "4e5a0ba6-e48b-4ea8-b6dd-d95ee7f0b84b"
      },
      "outputs": [
        {
          "data": {
            "text/plain": [
              "distance_from_home                float64\n",
              "distance_from_last_transaction    float64\n",
              "ratio_to_median_purchase_price    float64\n",
              "repeat_retailer                   float64\n",
              "used_chip                         float64\n",
              "used_pin_number                   float64\n",
              "online_order                      float64\n",
              "fraud                             float64\n",
              "dtype: object"
            ]
          },
          "execution_count": 7,
          "metadata": {},
          "output_type": "execute_result"
        }
      ],
      "source": [
        "# Analizamos el tipo de dato\n",
        "#============================================================================================================\n",
        "\n",
        "df_fraude_creditcard.dtypes"
      ]
    },
    {
      "cell_type": "code",
      "execution_count": null,
      "id": "00534387",
      "metadata": {
        "id": "00534387",
        "outputId": "d782716f-9ec3-45e6-ae1c-b526721a9b3d"
      },
      "outputs": [
        {
          "data": {
            "text/plain": [
              "array([1., 0.])"
            ]
          },
          "execution_count": 8,
          "metadata": {},
          "output_type": "execute_result"
        }
      ],
      "source": [
        "# Analizamos los valores unicos de las variables que en principio parecen tener datos binarios\n",
        "#============================================================================================================\n",
        "\n",
        "df_fraude_creditcard['repeat_retailer'].unique()"
      ]
    },
    {
      "cell_type": "code",
      "execution_count": null,
      "id": "4b90e40c",
      "metadata": {
        "id": "4b90e40c",
        "outputId": "0e1c4b75-6b23-4e33-95a2-6116fe611f0d"
      },
      "outputs": [
        {
          "data": {
            "text/plain": [
              "array([1., 0.])"
            ]
          },
          "execution_count": 9,
          "metadata": {},
          "output_type": "execute_result"
        }
      ],
      "source": [
        "df_fraude_creditcard['used_chip'].unique()"
      ]
    },
    {
      "cell_type": "code",
      "execution_count": null,
      "id": "ad11456d",
      "metadata": {
        "id": "ad11456d",
        "outputId": "036fd5bb-3a52-47d1-b0ff-5655b40cd215"
      },
      "outputs": [
        {
          "data": {
            "text/plain": [
              "array([0., 1.])"
            ]
          },
          "execution_count": 10,
          "metadata": {},
          "output_type": "execute_result"
        }
      ],
      "source": [
        "df_fraude_creditcard['used_pin_number'].unique()"
      ]
    },
    {
      "cell_type": "code",
      "execution_count": null,
      "id": "9dbfe4de",
      "metadata": {
        "id": "9dbfe4de",
        "outputId": "59e7080d-2c01-4d38-d252-618193aeea7e"
      },
      "outputs": [
        {
          "data": {
            "text/plain": [
              "array([0., 1.])"
            ]
          },
          "execution_count": 11,
          "metadata": {},
          "output_type": "execute_result"
        }
      ],
      "source": [
        "df_fraude_creditcard['online_order'].unique()"
      ]
    },
    {
      "cell_type": "code",
      "execution_count": null,
      "id": "df5a7706",
      "metadata": {
        "id": "df5a7706",
        "outputId": "fc494540-79a8-4edd-bdfc-9757b4e1c5e0"
      },
      "outputs": [
        {
          "data": {
            "text/plain": [
              "array([0., 1.])"
            ]
          },
          "execution_count": 12,
          "metadata": {},
          "output_type": "execute_result"
        }
      ],
      "source": [
        "df_fraude_creditcard['fraud'].unique()"
      ]
    },
    {
      "cell_type": "markdown",
      "id": "1aa2c1bd",
      "metadata": {
        "id": "1aa2c1bd"
      },
      "source": [
        "**Conclusión del análisis:** Tal como se puede ver en las variables analizadas, todas ellas tienen datos binarios. Podrían transformarse en variables categóricas, pero por ahora mantendremos su tipo para un mejor análisis."
      ]
    },
    {
      "cell_type": "markdown",
      "id": "0670ce23",
      "metadata": {
        "id": "0670ce23"
      },
      "source": [
        " "
      ]
    },
    {
      "cell_type": "code",
      "execution_count": null,
      "id": "a0dccd02",
      "metadata": {
        "id": "a0dccd02",
        "outputId": "6f396f2f-2348-4af5-df15-e0698cf52243"
      },
      "outputs": [
        {
          "data": {
            "text/html": [
              "<div>\n",
              "<style scoped>\n",
              "    .dataframe tbody tr th:only-of-type {\n",
              "        vertical-align: middle;\n",
              "    }\n",
              "\n",
              "    .dataframe tbody tr th {\n",
              "        vertical-align: top;\n",
              "    }\n",
              "\n",
              "    .dataframe thead th {\n",
              "        text-align: right;\n",
              "    }\n",
              "</style>\n",
              "<table border=\"1\" class=\"dataframe\">\n",
              "  <thead>\n",
              "    <tr style=\"text-align: right;\">\n",
              "      <th></th>\n",
              "      <th>distance_from_home</th>\n",
              "      <th>distance_from_last_transaction</th>\n",
              "      <th>ratio_to_median_purchase_price</th>\n",
              "      <th>repeat_retailer</th>\n",
              "      <th>used_chip</th>\n",
              "      <th>used_pin_number</th>\n",
              "      <th>online_order</th>\n",
              "      <th>fraud</th>\n",
              "    </tr>\n",
              "  </thead>\n",
              "  <tbody>\n",
              "    <tr>\n",
              "      <th>count</th>\n",
              "      <td>1000000.00</td>\n",
              "      <td>1000000.00</td>\n",
              "      <td>1000000.00</td>\n",
              "      <td>1000000.00</td>\n",
              "      <td>1000000.00</td>\n",
              "      <td>1000000.0</td>\n",
              "      <td>1000000.00</td>\n",
              "      <td>1000000.00</td>\n",
              "    </tr>\n",
              "    <tr>\n",
              "      <th>mean</th>\n",
              "      <td>26.63</td>\n",
              "      <td>5.04</td>\n",
              "      <td>1.82</td>\n",
              "      <td>0.88</td>\n",
              "      <td>0.35</td>\n",
              "      <td>0.1</td>\n",
              "      <td>0.65</td>\n",
              "      <td>0.09</td>\n",
              "    </tr>\n",
              "    <tr>\n",
              "      <th>std</th>\n",
              "      <td>65.39</td>\n",
              "      <td>25.84</td>\n",
              "      <td>2.80</td>\n",
              "      <td>0.32</td>\n",
              "      <td>0.48</td>\n",
              "      <td>0.3</td>\n",
              "      <td>0.48</td>\n",
              "      <td>0.28</td>\n",
              "    </tr>\n",
              "    <tr>\n",
              "      <th>min</th>\n",
              "      <td>0.00</td>\n",
              "      <td>0.00</td>\n",
              "      <td>0.00</td>\n",
              "      <td>0.00</td>\n",
              "      <td>0.00</td>\n",
              "      <td>0.0</td>\n",
              "      <td>0.00</td>\n",
              "      <td>0.00</td>\n",
              "    </tr>\n",
              "    <tr>\n",
              "      <th>25%</th>\n",
              "      <td>3.88</td>\n",
              "      <td>0.30</td>\n",
              "      <td>0.48</td>\n",
              "      <td>1.00</td>\n",
              "      <td>0.00</td>\n",
              "      <td>0.0</td>\n",
              "      <td>0.00</td>\n",
              "      <td>0.00</td>\n",
              "    </tr>\n",
              "    <tr>\n",
              "      <th>50%</th>\n",
              "      <td>9.97</td>\n",
              "      <td>1.00</td>\n",
              "      <td>1.00</td>\n",
              "      <td>1.00</td>\n",
              "      <td>0.00</td>\n",
              "      <td>0.0</td>\n",
              "      <td>1.00</td>\n",
              "      <td>0.00</td>\n",
              "    </tr>\n",
              "    <tr>\n",
              "      <th>75%</th>\n",
              "      <td>25.74</td>\n",
              "      <td>3.36</td>\n",
              "      <td>2.10</td>\n",
              "      <td>1.00</td>\n",
              "      <td>1.00</td>\n",
              "      <td>0.0</td>\n",
              "      <td>1.00</td>\n",
              "      <td>0.00</td>\n",
              "    </tr>\n",
              "    <tr>\n",
              "      <th>max</th>\n",
              "      <td>10632.72</td>\n",
              "      <td>11851.10</td>\n",
              "      <td>267.80</td>\n",
              "      <td>1.00</td>\n",
              "      <td>1.00</td>\n",
              "      <td>1.0</td>\n",
              "      <td>1.00</td>\n",
              "      <td>1.00</td>\n",
              "    </tr>\n",
              "  </tbody>\n",
              "</table>\n",
              "</div>"
            ],
            "text/plain": [
              "       distance_from_home  distance_from_last_transaction  \\\n",
              "count          1000000.00                      1000000.00   \n",
              "mean                26.63                            5.04   \n",
              "std                 65.39                           25.84   \n",
              "min                  0.00                            0.00   \n",
              "25%                  3.88                            0.30   \n",
              "50%                  9.97                            1.00   \n",
              "75%                 25.74                            3.36   \n",
              "max              10632.72                        11851.10   \n",
              "\n",
              "       ratio_to_median_purchase_price  repeat_retailer   used_chip  \\\n",
              "count                      1000000.00       1000000.00  1000000.00   \n",
              "mean                             1.82             0.88        0.35   \n",
              "std                              2.80             0.32        0.48   \n",
              "min                              0.00             0.00        0.00   \n",
              "25%                              0.48             1.00        0.00   \n",
              "50%                              1.00             1.00        0.00   \n",
              "75%                              2.10             1.00        1.00   \n",
              "max                            267.80             1.00        1.00   \n",
              "\n",
              "       used_pin_number  online_order       fraud  \n",
              "count        1000000.0    1000000.00  1000000.00  \n",
              "mean               0.1          0.65        0.09  \n",
              "std                0.3          0.48        0.28  \n",
              "min                0.0          0.00        0.00  \n",
              "25%                0.0          0.00        0.00  \n",
              "50%                0.0          1.00        0.00  \n",
              "75%                0.0          1.00        0.00  \n",
              "max                1.0          1.00        1.00  "
            ]
          },
          "execution_count": 13,
          "metadata": {},
          "output_type": "execute_result"
        }
      ],
      "source": [
        "# Realizamos un análisis de las principales medidas estadísticas \n",
        "#============================================================================================================\n",
        "\n",
        "df_fraude_creditcard.describe().round(2)"
      ]
    },
    {
      "cell_type": "markdown",
      "id": "c1797bf2",
      "metadata": {
        "id": "c1797bf2"
      },
      "source": [
        "**Conclusión del análisis:** Se puede observar que en las 2 primeras variables, hay mucha distancia entre el mínimo y el máximo. En este sentido, la mediana o el 2° quartil están muy alejado del valor máximo, lo que en prinicpio nos que pueden existir muchos outsider.   "
      ]
    },
    {
      "cell_type": "markdown",
      "id": "b5a8c4d2",
      "metadata": {
        "id": "b5a8c4d2"
      },
      "source": [
        " "
      ]
    },
    {
      "cell_type": "markdown",
      "id": "8a1d7439",
      "metadata": {
        "id": "8a1d7439"
      },
      "source": [
        "**ANÁLISIS UNIVARIADO**"
      ]
    },
    {
      "cell_type": "markdown",
      "id": "91c3c6dc",
      "metadata": {
        "id": "91c3c6dc"
      },
      "source": [
        "***1°: Análisis de frecuencias de las variables binarias con el método Sidetable***"
      ]
    },
    {
      "cell_type": "code",
      "execution_count": null,
      "id": "ae5fba8e",
      "metadata": {
        "id": "ae5fba8e",
        "outputId": "ec566371-e454-42ea-e836-6c5578d9bdf0"
      },
      "outputs": [
        {
          "data": {
            "text/html": [
              "<div>\n",
              "<style scoped>\n",
              "    .dataframe tbody tr th:only-of-type {\n",
              "        vertical-align: middle;\n",
              "    }\n",
              "\n",
              "    .dataframe tbody tr th {\n",
              "        vertical-align: top;\n",
              "    }\n",
              "\n",
              "    .dataframe thead th {\n",
              "        text-align: right;\n",
              "    }\n",
              "</style>\n",
              "<table border=\"1\" class=\"dataframe\">\n",
              "  <thead>\n",
              "    <tr style=\"text-align: right;\">\n",
              "      <th></th>\n",
              "      <th>repeat_retailer</th>\n",
              "      <th>count</th>\n",
              "      <th>percent</th>\n",
              "      <th>cumulative_count</th>\n",
              "      <th>cumulative_percent</th>\n",
              "    </tr>\n",
              "  </thead>\n",
              "  <tbody>\n",
              "    <tr>\n",
              "      <th>0</th>\n",
              "      <td>1.0</td>\n",
              "      <td>881536</td>\n",
              "      <td>88.15</td>\n",
              "      <td>881536</td>\n",
              "      <td>88.15</td>\n",
              "    </tr>\n",
              "    <tr>\n",
              "      <th>1</th>\n",
              "      <td>0.0</td>\n",
              "      <td>118464</td>\n",
              "      <td>11.85</td>\n",
              "      <td>1000000</td>\n",
              "      <td>100.00</td>\n",
              "    </tr>\n",
              "  </tbody>\n",
              "</table>\n",
              "</div>"
            ],
            "text/plain": [
              "   repeat_retailer   count  percent  cumulative_count  cumulative_percent\n",
              "0              1.0  881536    88.15            881536               88.15\n",
              "1              0.0  118464    11.85           1000000              100.00"
            ]
          },
          "execution_count": 14,
          "metadata": {},
          "output_type": "execute_result"
        }
      ],
      "source": [
        "# Realizamos un análisis de frecuencia de las variables con valores binarios\n",
        "#============================================================================================================\n",
        "\n",
        "df_fraude_creditcard.stb.freq(['repeat_retailer']).round(2)"
      ]
    },
    {
      "cell_type": "code",
      "execution_count": null,
      "id": "cd48cb3e",
      "metadata": {
        "id": "cd48cb3e",
        "outputId": "c1bad115-3187-42e3-9894-e2d82d84646b"
      },
      "outputs": [
        {
          "data": {
            "text/html": [
              "<div>\n",
              "<style scoped>\n",
              "    .dataframe tbody tr th:only-of-type {\n",
              "        vertical-align: middle;\n",
              "    }\n",
              "\n",
              "    .dataframe tbody tr th {\n",
              "        vertical-align: top;\n",
              "    }\n",
              "\n",
              "    .dataframe thead th {\n",
              "        text-align: right;\n",
              "    }\n",
              "</style>\n",
              "<table border=\"1\" class=\"dataframe\">\n",
              "  <thead>\n",
              "    <tr style=\"text-align: right;\">\n",
              "      <th></th>\n",
              "      <th>used_chip</th>\n",
              "      <th>count</th>\n",
              "      <th>percent</th>\n",
              "      <th>cumulative_count</th>\n",
              "      <th>cumulative_percent</th>\n",
              "    </tr>\n",
              "  </thead>\n",
              "  <tbody>\n",
              "    <tr>\n",
              "      <th>0</th>\n",
              "      <td>0.0</td>\n",
              "      <td>649601</td>\n",
              "      <td>64.96</td>\n",
              "      <td>649601</td>\n",
              "      <td>64.96</td>\n",
              "    </tr>\n",
              "    <tr>\n",
              "      <th>1</th>\n",
              "      <td>1.0</td>\n",
              "      <td>350399</td>\n",
              "      <td>35.04</td>\n",
              "      <td>1000000</td>\n",
              "      <td>100.00</td>\n",
              "    </tr>\n",
              "  </tbody>\n",
              "</table>\n",
              "</div>"
            ],
            "text/plain": [
              "   used_chip   count  percent  cumulative_count  cumulative_percent\n",
              "0        0.0  649601    64.96            649601               64.96\n",
              "1        1.0  350399    35.04           1000000              100.00"
            ]
          },
          "execution_count": 15,
          "metadata": {},
          "output_type": "execute_result"
        }
      ],
      "source": [
        "df_fraude_creditcard.stb.freq(['used_chip']).round(2)"
      ]
    },
    {
      "cell_type": "code",
      "execution_count": null,
      "id": "2d3ef7d1",
      "metadata": {
        "id": "2d3ef7d1",
        "outputId": "39c583b2-15bb-4a24-cd3b-fc1086cd29d6"
      },
      "outputs": [
        {
          "data": {
            "text/html": [
              "<div>\n",
              "<style scoped>\n",
              "    .dataframe tbody tr th:only-of-type {\n",
              "        vertical-align: middle;\n",
              "    }\n",
              "\n",
              "    .dataframe tbody tr th {\n",
              "        vertical-align: top;\n",
              "    }\n",
              "\n",
              "    .dataframe thead th {\n",
              "        text-align: right;\n",
              "    }\n",
              "</style>\n",
              "<table border=\"1\" class=\"dataframe\">\n",
              "  <thead>\n",
              "    <tr style=\"text-align: right;\">\n",
              "      <th></th>\n",
              "      <th>used_pin_number</th>\n",
              "      <th>count</th>\n",
              "      <th>percent</th>\n",
              "      <th>cumulative_count</th>\n",
              "      <th>cumulative_percent</th>\n",
              "    </tr>\n",
              "  </thead>\n",
              "  <tbody>\n",
              "    <tr>\n",
              "      <th>0</th>\n",
              "      <td>0.0</td>\n",
              "      <td>899392</td>\n",
              "      <td>89.94</td>\n",
              "      <td>899392</td>\n",
              "      <td>89.94</td>\n",
              "    </tr>\n",
              "    <tr>\n",
              "      <th>1</th>\n",
              "      <td>1.0</td>\n",
              "      <td>100608</td>\n",
              "      <td>10.06</td>\n",
              "      <td>1000000</td>\n",
              "      <td>100.00</td>\n",
              "    </tr>\n",
              "  </tbody>\n",
              "</table>\n",
              "</div>"
            ],
            "text/plain": [
              "   used_pin_number   count  percent  cumulative_count  cumulative_percent\n",
              "0              0.0  899392    89.94            899392               89.94\n",
              "1              1.0  100608    10.06           1000000              100.00"
            ]
          },
          "execution_count": 16,
          "metadata": {},
          "output_type": "execute_result"
        }
      ],
      "source": [
        "df_fraude_creditcard.stb.freq(['used_pin_number']).round(2)"
      ]
    },
    {
      "cell_type": "code",
      "execution_count": null,
      "id": "8d19e621",
      "metadata": {
        "id": "8d19e621",
        "outputId": "da1cb2c1-4904-48fe-ebca-f10f728e6422"
      },
      "outputs": [
        {
          "data": {
            "text/html": [
              "<div>\n",
              "<style scoped>\n",
              "    .dataframe tbody tr th:only-of-type {\n",
              "        vertical-align: middle;\n",
              "    }\n",
              "\n",
              "    .dataframe tbody tr th {\n",
              "        vertical-align: top;\n",
              "    }\n",
              "\n",
              "    .dataframe thead th {\n",
              "        text-align: right;\n",
              "    }\n",
              "</style>\n",
              "<table border=\"1\" class=\"dataframe\">\n",
              "  <thead>\n",
              "    <tr style=\"text-align: right;\">\n",
              "      <th></th>\n",
              "      <th>online_order</th>\n",
              "      <th>count</th>\n",
              "      <th>percent</th>\n",
              "      <th>cumulative_count</th>\n",
              "      <th>cumulative_percent</th>\n",
              "    </tr>\n",
              "  </thead>\n",
              "  <tbody>\n",
              "    <tr>\n",
              "      <th>0</th>\n",
              "      <td>1.0</td>\n",
              "      <td>650552</td>\n",
              "      <td>65.06</td>\n",
              "      <td>650552</td>\n",
              "      <td>65.06</td>\n",
              "    </tr>\n",
              "    <tr>\n",
              "      <th>1</th>\n",
              "      <td>0.0</td>\n",
              "      <td>349448</td>\n",
              "      <td>34.94</td>\n",
              "      <td>1000000</td>\n",
              "      <td>100.00</td>\n",
              "    </tr>\n",
              "  </tbody>\n",
              "</table>\n",
              "</div>"
            ],
            "text/plain": [
              "   online_order   count  percent  cumulative_count  cumulative_percent\n",
              "0           1.0  650552    65.06            650552               65.06\n",
              "1           0.0  349448    34.94           1000000              100.00"
            ]
          },
          "execution_count": 17,
          "metadata": {},
          "output_type": "execute_result"
        }
      ],
      "source": [
        "df_fraude_creditcard.stb.freq(['online_order']).round(2)"
      ]
    },
    {
      "cell_type": "code",
      "execution_count": null,
      "id": "a1cfb1bf",
      "metadata": {
        "id": "a1cfb1bf",
        "outputId": "7d68dc94-0d2f-4fe2-d367-a90c2ef43118"
      },
      "outputs": [
        {
          "data": {
            "text/html": [
              "<div>\n",
              "<style scoped>\n",
              "    .dataframe tbody tr th:only-of-type {\n",
              "        vertical-align: middle;\n",
              "    }\n",
              "\n",
              "    .dataframe tbody tr th {\n",
              "        vertical-align: top;\n",
              "    }\n",
              "\n",
              "    .dataframe thead th {\n",
              "        text-align: right;\n",
              "    }\n",
              "</style>\n",
              "<table border=\"1\" class=\"dataframe\">\n",
              "  <thead>\n",
              "    <tr style=\"text-align: right;\">\n",
              "      <th></th>\n",
              "      <th>fraud</th>\n",
              "      <th>count</th>\n",
              "      <th>percent</th>\n",
              "      <th>cumulative_count</th>\n",
              "      <th>cumulative_percent</th>\n",
              "    </tr>\n",
              "  </thead>\n",
              "  <tbody>\n",
              "    <tr>\n",
              "      <th>0</th>\n",
              "      <td>0.0</td>\n",
              "      <td>912597</td>\n",
              "      <td>91.26</td>\n",
              "      <td>912597</td>\n",
              "      <td>91.26</td>\n",
              "    </tr>\n",
              "    <tr>\n",
              "      <th>1</th>\n",
              "      <td>1.0</td>\n",
              "      <td>87403</td>\n",
              "      <td>8.74</td>\n",
              "      <td>1000000</td>\n",
              "      <td>100.00</td>\n",
              "    </tr>\n",
              "  </tbody>\n",
              "</table>\n",
              "</div>"
            ],
            "text/plain": [
              "   fraud   count  percent  cumulative_count  cumulative_percent\n",
              "0    0.0  912597    91.26            912597               91.26\n",
              "1    1.0   87403     8.74           1000000              100.00"
            ]
          },
          "execution_count": 18,
          "metadata": {},
          "output_type": "execute_result"
        }
      ],
      "source": [
        "df_fraude_creditcard.stb.freq(['fraud']).round(2)"
      ]
    },
    {
      "cell_type": "markdown",
      "id": "580ebf43",
      "metadata": {
        "id": "580ebf43"
      },
      "source": [
        "**Conclusión del análisis:** Se puede ver que del total de transacciones solo el 35% se realizan con tarjetas de crédito. Por otra parte, solo el 10% lo usan introduciendo un código de seguridad. También es impornatet destacar que, el 65% son transacciones online. Finalmente, solo en el 9% de las transacciones se detectó fraude."
      ]
    },
    {
      "cell_type": "markdown",
      "id": "caf37a02",
      "metadata": {
        "id": "caf37a02"
      },
      "source": [
        " "
      ]
    },
    {
      "cell_type": "markdown",
      "id": "dbeeeae9",
      "metadata": {
        "id": "dbeeeae9"
      },
      "source": [
        "***2°: Análisis de la variable \"distance_from_home\" con un gráfico de caja***"
      ]
    },
    {
      "cell_type": "code",
      "execution_count": null,
      "id": "12581881",
      "metadata": {
        "id": "12581881",
        "outputId": "0ec3e435-5a89-47f1-e5be-582e1ebe9a0d"
      },
      "outputs": [
        {
          "data": {
            "image/png": "[encoded data removed]",
            "text/plain": [
              "<Figure size 720x720 with 1 Axes>"
            ]
          },
          "metadata": {
            "needs_background": "light"
          },
          "output_type": "display_data"
        }
      ],
      "source": [
        "# Realizamos un boxplot utilizando matplotlib. Para una mejor compresión de los datos se estableció una escala logarítmica\n",
        "#=========================================================================================================================\n",
        "\n",
        "plt.figure(figsize=(10,10))\n",
        "plt.boxplot(df_fraude_creditcard[\"distance_from_home\"])\n",
        "plt.title(\"distance_from_home\", fontsize=30)\n",
        "plt.yscale(\"log\")\n",
        "plt.show()"
      ]
    },
    {
      "cell_type": "markdown",
      "id": "acc475c5",
      "metadata": {
        "id": "acc475c5"
      },
      "source": [
        "***Conclusión del análisis:*** como se observa, existen muchos valores outsider, lo cual debemos prestar atención para que no afecten los resultados del modelo de ML."
      ]
    },
    {
      "cell_type": "markdown",
      "id": "a4c4e8e7",
      "metadata": {
        "id": "a4c4e8e7"
      },
      "source": [
        " "
      ]
    },
    {
      "cell_type": "markdown",
      "id": "6e9675d6",
      "metadata": {
        "id": "6e9675d6"
      },
      "source": [
        "***3°: Análisis de la variable \"distance_from_home\" con un histograma***"
      ]
    },
    {
      "cell_type": "code",
      "execution_count": null,
      "id": "d3bc95ba",
      "metadata": {
        "id": "d3bc95ba",
        "outputId": "45e87e06-e311-4c74-87dc-3f7a05050fda"
      },
      "outputs": [
        {
          "data": {
            "image/png": "[encoded data removed]",
            "text/plain": [
              "<Figure size 720x720 with 1 Axes>"
            ]
          },
          "metadata": {
            "needs_background": "light"
          },
          "output_type": "display_data"
        }
      ],
      "source": [
        "# Realizamos un histograma utilizando matplotlib. Para una mejor compresión de los datos se estableció una escala logarítmica\n",
        "#============================================================================================================================\n",
        "\n",
        "plt.figure(figsize=(10,10))\n",
        "plt.hist(df_fraude_creditcard[\"distance_from_home\"], bins=30)\n",
        "plt.title(\"Histograma distance from home\", fontsize=30)\n",
        "plt.yscale(\"log\")\n",
        "plt.show()"
      ]
    },
    {
      "cell_type": "code",
      "execution_count": null,
      "id": "442000c9",
      "metadata": {
        "id": "442000c9",
        "outputId": "890a9ca3-14a2-4fb4-e16b-5acb15ec6b8c"
      },
      "outputs": [
        {
          "data": {
            "image/png": "[encoded data removed]",
            "text/plain": [
              "<Figure size 720x720 with 1 Axes>"
            ]
          },
          "metadata": {
            "needs_background": "light"
          },
          "output_type": "display_data"
        }
      ],
      "source": [
        "# Realizamos un histograma utilizando seaborn. Para una mejor compresión de los datos se estableció una escala logarítmica\n",
        "#=========================================================================================================================\n",
        "\n",
        "plt.figure(figsize=(10,10))\n",
        "sns.distplot(df_fraude_creditcard[\"distance_from_home\"])\n",
        "plt.title(\"Histograma de distance from home\", fontsize=30)\n",
        "plt.yscale(\"log\")\n",
        "plt.show()"
      ]
    },
    {
      "cell_type": "markdown",
      "id": "b9a232c9",
      "metadata": {
        "id": "b9a232c9"
      },
      "source": [
        "**Conclusión del análisis:** como se observa, la variable analizada presenta una distribución asimétrica a la izquierda."
      ]
    },
    {
      "cell_type": "markdown",
      "id": "d81eb716",
      "metadata": {
        "id": "d81eb716"
      },
      "source": [
        " "
      ]
    },
    {
      "cell_type": "markdown",
      "id": "8af1b501",
      "metadata": {
        "id": "8af1b501"
      },
      "source": [
        "**ANÁLISIS BIVARIADO**"
      ]
    },
    {
      "cell_type": "markdown",
      "id": "133ff880",
      "metadata": {
        "id": "133ff880"
      },
      "source": [
        "***1°: Definir un dataframe de correlaciones***"
      ]
    },
    {
      "cell_type": "code",
      "execution_count": null,
      "id": "600afb53",
      "metadata": {
        "id": "600afb53",
        "outputId": "ba466b72-afc8-41f6-806f-96553ed0dbe2"
      },
      "outputs": [
        {
          "data": {
            "text/html": [
              "<div>\n",
              "<style scoped>\n",
              "    .dataframe tbody tr th:only-of-type {\n",
              "        vertical-align: middle;\n",
              "    }\n",
              "\n",
              "    .dataframe tbody tr th {\n",
              "        vertical-align: top;\n",
              "    }\n",
              "\n",
              "    .dataframe thead th {\n",
              "        text-align: right;\n",
              "    }\n",
              "</style>\n",
              "<table border=\"1\" class=\"dataframe\">\n",
              "  <thead>\n",
              "    <tr style=\"text-align: right;\">\n",
              "      <th></th>\n",
              "      <th>distance_from_home</th>\n",
              "      <th>distance_from_last_transaction</th>\n",
              "      <th>ratio_to_median_purchase_price</th>\n",
              "      <th>repeat_retailer</th>\n",
              "      <th>used_chip</th>\n",
              "      <th>used_pin_number</th>\n",
              "      <th>online_order</th>\n",
              "      <th>fraud</th>\n",
              "    </tr>\n",
              "  </thead>\n",
              "  <tbody>\n",
              "    <tr>\n",
              "      <th>distance_from_home</th>\n",
              "      <td>1.000000</td>\n",
              "      <td>0.000193</td>\n",
              "      <td>-0.001374</td>\n",
              "      <td>0.143124</td>\n",
              "      <td>-0.000697</td>\n",
              "      <td>-0.001622</td>\n",
              "      <td>-0.001301</td>\n",
              "      <td>0.187571</td>\n",
              "    </tr>\n",
              "    <tr>\n",
              "      <th>distance_from_last_transaction</th>\n",
              "      <td>0.000193</td>\n",
              "      <td>1.000000</td>\n",
              "      <td>0.001013</td>\n",
              "      <td>-0.000928</td>\n",
              "      <td>0.002055</td>\n",
              "      <td>-0.000899</td>\n",
              "      <td>0.000141</td>\n",
              "      <td>0.091917</td>\n",
              "    </tr>\n",
              "    <tr>\n",
              "      <th>ratio_to_median_purchase_price</th>\n",
              "      <td>-0.001374</td>\n",
              "      <td>0.001013</td>\n",
              "      <td>1.000000</td>\n",
              "      <td>0.001374</td>\n",
              "      <td>0.000587</td>\n",
              "      <td>0.000942</td>\n",
              "      <td>-0.000330</td>\n",
              "      <td>0.462305</td>\n",
              "    </tr>\n",
              "    <tr>\n",
              "      <th>repeat_retailer</th>\n",
              "      <td>0.143124</td>\n",
              "      <td>-0.000928</td>\n",
              "      <td>0.001374</td>\n",
              "      <td>1.000000</td>\n",
              "      <td>-0.001345</td>\n",
              "      <td>-0.000417</td>\n",
              "      <td>-0.000532</td>\n",
              "      <td>-0.001357</td>\n",
              "    </tr>\n",
              "    <tr>\n",
              "      <th>used_chip</th>\n",
              "      <td>-0.000697</td>\n",
              "      <td>0.002055</td>\n",
              "      <td>0.000587</td>\n",
              "      <td>-0.001345</td>\n",
              "      <td>1.000000</td>\n",
              "      <td>-0.001393</td>\n",
              "      <td>-0.000219</td>\n",
              "      <td>-0.060975</td>\n",
              "    </tr>\n",
              "    <tr>\n",
              "      <th>used_pin_number</th>\n",
              "      <td>-0.001622</td>\n",
              "      <td>-0.000899</td>\n",
              "      <td>0.000942</td>\n",
              "      <td>-0.000417</td>\n",
              "      <td>-0.001393</td>\n",
              "      <td>1.000000</td>\n",
              "      <td>-0.000291</td>\n",
              "      <td>-0.100293</td>\n",
              "    </tr>\n",
              "    <tr>\n",
              "      <th>online_order</th>\n",
              "      <td>-0.001301</td>\n",
              "      <td>0.000141</td>\n",
              "      <td>-0.000330</td>\n",
              "      <td>-0.000532</td>\n",
              "      <td>-0.000219</td>\n",
              "      <td>-0.000291</td>\n",
              "      <td>1.000000</td>\n",
              "      <td>0.191973</td>\n",
              "    </tr>\n",
              "    <tr>\n",
              "      <th>fraud</th>\n",
              "      <td>0.187571</td>\n",
              "      <td>0.091917</td>\n",
              "      <td>0.462305</td>\n",
              "      <td>-0.001357</td>\n",
              "      <td>-0.060975</td>\n",
              "      <td>-0.100293</td>\n",
              "      <td>0.191973</td>\n",
              "      <td>1.000000</td>\n",
              "    </tr>\n",
              "  </tbody>\n",
              "</table>\n",
              "</div>"
            ],
            "text/plain": [
              "                                distance_from_home  \\\n",
              "distance_from_home                        1.000000   \n",
              "distance_from_last_transaction            0.000193   \n",
              "ratio_to_median_purchase_price           -0.001374   \n",
              "repeat_retailer                           0.143124   \n",
              "used_chip                                -0.000697   \n",
              "used_pin_number                          -0.001622   \n",
              "online_order                             -0.001301   \n",
              "fraud                                     0.187571   \n",
              "\n",
              "                                distance_from_last_transaction  \\\n",
              "distance_from_home                                    0.000193   \n",
              "distance_from_last_transaction                        1.000000   \n",
              "ratio_to_median_purchase_price                        0.001013   \n",
              "repeat_retailer                                      -0.000928   \n",
              "used_chip                                             0.002055   \n",
              "used_pin_number                                      -0.000899   \n",
              "online_order                                          0.000141   \n",
              "fraud                                                 0.091917   \n",
              "\n",
              "                                ratio_to_median_purchase_price  \\\n",
              "distance_from_home                                   -0.001374   \n",
              "distance_from_last_transaction                        0.001013   \n",
              "ratio_to_median_purchase_price                        1.000000   \n",
              "repeat_retailer                                       0.001374   \n",
              "used_chip                                             0.000587   \n",
              "used_pin_number                                       0.000942   \n",
              "online_order                                         -0.000330   \n",
              "fraud                                                 0.462305   \n",
              "\n",
              "                                repeat_retailer  used_chip  used_pin_number  \\\n",
              "distance_from_home                     0.143124  -0.000697        -0.001622   \n",
              "distance_from_last_transaction        -0.000928   0.002055        -0.000899   \n",
              "ratio_to_median_purchase_price         0.001374   0.000587         0.000942   \n",
              "repeat_retailer                        1.000000  -0.001345        -0.000417   \n",
              "used_chip                             -0.001345   1.000000        -0.001393   \n",
              "used_pin_number                       -0.000417  -0.001393         1.000000   \n",
              "online_order                          -0.000532  -0.000219        -0.000291   \n",
              "fraud                                 -0.001357  -0.060975        -0.100293   \n",
              "\n",
              "                                online_order     fraud  \n",
              "distance_from_home                 -0.001301  0.187571  \n",
              "distance_from_last_transaction      0.000141  0.091917  \n",
              "ratio_to_median_purchase_price     -0.000330  0.462305  \n",
              "repeat_retailer                    -0.000532 -0.001357  \n",
              "used_chip                          -0.000219 -0.060975  \n",
              "used_pin_number                    -0.000291 -0.100293  \n",
              "online_order                        1.000000  0.191973  \n",
              "fraud                               0.191973  1.000000  "
            ]
          },
          "execution_count": 22,
          "metadata": {},
          "output_type": "execute_result"
        }
      ],
      "source": [
        "# Definimos un dataframe que muestra las correlaciones a través del método \"corr\"\n",
        "#============================================================================================================\n",
        "\n",
        "df_corr = df_fraude_creditcard.corr()\n",
        "df_corr"
      ]
    },
    {
      "cell_type": "code",
      "execution_count": null,
      "id": "89b8537e",
      "metadata": {
        "id": "89b8537e",
        "outputId": "73f614e9-bba9-4651-b81e-3165dfe4f657"
      },
      "outputs": [
        {
          "data": {
            "image/png": "[encoded data removed]",
            "text/plain": [
              "<Figure size 1440x1080 with 2 Axes>"
            ]
          },
          "metadata": {
            "needs_background": "light"
          },
          "output_type": "display_data"
        }
      ],
      "source": [
        "# Realizamos un heatmap utilizando seaborn.\n",
        "#=========================================================================================================================\n",
        "\n",
        "plt.figure(figsize=(20,15))\n",
        "cor = df_corr\n",
        "sns.heatmap(cor, annot=True, cmap=\"bwr_r\" , linewidths=.4)\n",
        "plt.show()\n"
      ]
    },
    {
      "cell_type": "markdown",
      "id": "8249c7c0",
      "metadata": {
        "id": "8249c7c0"
      },
      "source": [
        "**Conclusión del análisis:** De acuerdo al gráfico, se puede observar que hay una baja correlación o no existe correlación entre las variables."
      ]
    },
    {
      "cell_type": "markdown",
      "id": "0ed19ee6",
      "metadata": {
        "id": "0ed19ee6"
      },
      "source": [
        " "
      ]
    },
    {
      "cell_type": "code",
      "execution_count": null,
      "id": "0cf3c543",
      "metadata": {
        "id": "0cf3c543",
        "outputId": "51730749-592a-4bf3-d976-a72495e4d3d3"
      },
      "outputs": [
        {
          "data": {
            "text/plain": [
              "distance_from_home                 20.239733\n",
              "distance_from_last_transaction    125.921226\n",
              "ratio_to_median_purchase_price      8.915015\n",
              "repeat_retailer                    -2.361310\n",
              "used_chip                           0.627134\n",
              "used_pin_number                     2.655457\n",
              "online_order                       -0.631517\n",
              "fraud                               2.921824\n",
              "dtype: float64"
            ]
          },
          "execution_count": 24,
          "metadata": {},
          "output_type": "execute_result"
        }
      ],
      "source": [
        "# Analizamos el sesgo de las variables.\n",
        "#============================================================================================================\n",
        "\n",
        "df_fraude_creditcard.skew()"
      ]
    },
    {
      "cell_type": "markdown",
      "id": "0fe8fe7f",
      "metadata": {
        "id": "0fe8fe7f"
      },
      "source": [
        "**Conclusión del análisis:** existen muchos sesgo en las variables. "
      ]
    },
    {
      "cell_type": "markdown",
      "id": "744f01ea",
      "metadata": {
        "id": "744f01ea"
      },
      "source": [
        " "
      ]
    },
    {
      "cell_type": "markdown",
      "id": "2deecd80",
      "metadata": {
        "id": "2deecd80"
      },
      "source": [
        "**ANÁLISIS MULTIVARIADO**"
      ]
    },
    {
      "cell_type": "code",
      "execution_count": null,
      "id": "c97915d8",
      "metadata": {
        "id": "c97915d8",
        "outputId": "399bfcee-0c58-49a2-bc4a-f565ff464598"
      },
      "outputs": [
        {
          "name": "stderr",
          "output_type": "stream",
          "text": [
            "C:\\Users\\Pablo\\miniconda3\\lib\\site-packages\\seaborn\\axisgrid.py:243: UserWarning: The `size` parameter has been renamed to `height`; please update your code.\n",
            "  warnings.warn(msg, UserWarning)\n"
          ]
        },
        {
          "data": {
            "image/png": "[encoded data removed]",
            "text/plain": [
              "<Figure size 412x360 with 1 Axes>"
            ]
          },
          "metadata": {
            "needs_background": "light"
          },
          "output_type": "display_data"
        }
      ],
      "source": [
        "# Realizamos un facegrid utilizando seaborn. \n",
        "#====================================================================================================================================\n",
        "\n",
        "sns.FacetGrid(df_fraude_creditcard,hue = 'fraud' , size = 5).map(plt.scatter,'distance_from_home','distance_from_home').add_legend();\n",
        "plt.show()"
      ]
    },
    {
      "cell_type": "markdown",
      "id": "59f2bd4e",
      "metadata": {
        "id": "59f2bd4e"
      },
      "source": [
        "**Conclusión del análisis:** se puede observar, en principio, que la distancia de la casa donde se realizó una transacción, no tiene relación con el fraude.   "
      ]
    },
    {
      "cell_type": "markdown",
      "id": "6efec2e4",
      "metadata": {
        "id": "6efec2e4"
      },
      "source": [
        " "
      ]
    },
    {
      "cell_type": "code",
      "execution_count": null,
      "id": "441bc60a",
      "metadata": {
        "id": "441bc60a",
        "outputId": "45321298-31c8-4582-b27b-540b3a37486c"
      },
      "outputs": [
        {
          "name": "stderr",
          "output_type": "stream",
          "text": [
            "C:\\Users\\Pablo\\miniconda3\\lib\\site-packages\\seaborn\\axisgrid.py:243: UserWarning: The `size` parameter has been renamed to `height`; please update your code.\n",
            "  warnings.warn(msg, UserWarning)\n"
          ]
        },
        {
          "data": {
            "image/png": "[encoded data removed]",
            "text/plain": [
              "<Figure size 412x360 with 1 Axes>"
            ]
          },
          "metadata": {
            "needs_background": "light"
          },
          "output_type": "display_data"
        }
      ],
      "source": [
        "# Realizamos un facegrid utilizando seaborn. \n",
        "#===========================================================================================================================\n",
        "\n",
        "sns.FacetGrid(df_fraude_creditcard,hue = 'fraud' , size = 5).map(plt.scatter,'used_chip','distance_from_home').add_legend();\n",
        "plt.show()"
      ]
    },
    {
      "cell_type": "markdown",
      "id": "b32be498",
      "metadata": {
        "id": "b32be498"
      },
      "source": [
        "**Conclusión del análisis:** se puede observar que la mayor cantidad de fraude se comete en transacciones que no se realizan con chip."
      ]
    },
    {
      "cell_type": "markdown",
      "id": "2277837e",
      "metadata": {
        "id": "2277837e"
      },
      "source": [
        " "
      ]
    },
    {
      "cell_type": "markdown",
      "id": "271a1b48",
      "metadata": {
        "id": "271a1b48"
      },
      "source": [
        " "
      ]
    },
    {
      "cell_type": "markdown",
      "id": "e95dd437",
      "metadata": {
        "id": "e95dd437"
      },
      "source": [
        " "
      ]
    },
    {
      "cell_type": "markdown",
      "id": "6e011bc6",
      "metadata": {
        "id": "6e011bc6"
      },
      "source": [
        "**ALGORITMO DE CLASIFICACIÓN**\n",
        "\n",
        "**Regresión Logística**"
      ]
    },
    {
      "cell_type": "markdown",
      "id": "97b1a287",
      "metadata": {
        "id": "97b1a287"
      },
      "source": [
        "***1°: Working with variable X***"
      ]
    },
    {
      "cell_type": "code",
      "execution_count": null,
      "id": "71331b8a",
      "metadata": {
        "id": "71331b8a",
        "outputId": "64a0cea0-7a92-4d6f-98fd-f63ff7edb254"
      },
      "outputs": [
        {
          "data": {
            "text/html": [
              "<div>\n",
              "<style scoped>\n",
              "    .dataframe tbody tr th:only-of-type {\n",
              "        vertical-align: middle;\n",
              "    }\n",
              "\n",
              "    .dataframe tbody tr th {\n",
              "        vertical-align: top;\n",
              "    }\n",
              "\n",
              "    .dataframe thead th {\n",
              "        text-align: right;\n",
              "    }\n",
              "</style>\n",
              "<table border=\"1\" class=\"dataframe\">\n",
              "  <thead>\n",
              "    <tr style=\"text-align: right;\">\n",
              "      <th></th>\n",
              "      <th>distance_from_home</th>\n",
              "      <th>distance_from_last_transaction</th>\n",
              "      <th>ratio_to_median_purchase_price</th>\n",
              "      <th>repeat_retailer</th>\n",
              "      <th>used_chip</th>\n",
              "      <th>used_pin_number</th>\n",
              "      <th>online_order</th>\n",
              "    </tr>\n",
              "  </thead>\n",
              "  <tbody>\n",
              "    <tr>\n",
              "      <th>0</th>\n",
              "      <td>57.877857</td>\n",
              "      <td>0.311140</td>\n",
              "      <td>1.945940</td>\n",
              "      <td>1.0</td>\n",
              "      <td>1.0</td>\n",
              "      <td>0.0</td>\n",
              "      <td>0.0</td>\n",
              "    </tr>\n",
              "    <tr>\n",
              "      <th>1</th>\n",
              "      <td>10.829943</td>\n",
              "      <td>0.175592</td>\n",
              "      <td>1.294219</td>\n",
              "      <td>1.0</td>\n",
              "      <td>0.0</td>\n",
              "      <td>0.0</td>\n",
              "      <td>0.0</td>\n",
              "    </tr>\n",
              "    <tr>\n",
              "      <th>2</th>\n",
              "      <td>5.091079</td>\n",
              "      <td>0.805153</td>\n",
              "      <td>0.427715</td>\n",
              "      <td>1.0</td>\n",
              "      <td>0.0</td>\n",
              "      <td>0.0</td>\n",
              "      <td>1.0</td>\n",
              "    </tr>\n",
              "    <tr>\n",
              "      <th>3</th>\n",
              "      <td>2.247564</td>\n",
              "      <td>5.600044</td>\n",
              "      <td>0.362663</td>\n",
              "      <td>1.0</td>\n",
              "      <td>1.0</td>\n",
              "      <td>0.0</td>\n",
              "      <td>1.0</td>\n",
              "    </tr>\n",
              "    <tr>\n",
              "      <th>4</th>\n",
              "      <td>44.190936</td>\n",
              "      <td>0.566486</td>\n",
              "      <td>2.222767</td>\n",
              "      <td>1.0</td>\n",
              "      <td>1.0</td>\n",
              "      <td>0.0</td>\n",
              "      <td>1.0</td>\n",
              "    </tr>\n",
              "  </tbody>\n",
              "</table>\n",
              "</div>"
            ],
            "text/plain": [
              "   distance_from_home  distance_from_last_transaction  \\\n",
              "0           57.877857                        0.311140   \n",
              "1           10.829943                        0.175592   \n",
              "2            5.091079                        0.805153   \n",
              "3            2.247564                        5.600044   \n",
              "4           44.190936                        0.566486   \n",
              "\n",
              "   ratio_to_median_purchase_price  repeat_retailer  used_chip  \\\n",
              "0                        1.945940              1.0        1.0   \n",
              "1                        1.294219              1.0        0.0   \n",
              "2                        0.427715              1.0        0.0   \n",
              "3                        0.362663              1.0        1.0   \n",
              "4                        2.222767              1.0        1.0   \n",
              "\n",
              "   used_pin_number  online_order  \n",
              "0              0.0           0.0  \n",
              "1              0.0           0.0  \n",
              "2              0.0           1.0  \n",
              "3              0.0           1.0  \n",
              "4              0.0           1.0  "
            ]
          },
          "execution_count": 27,
          "metadata": {},
          "output_type": "execute_result"
        }
      ],
      "source": [
        "# Define the X features dataframe\n",
        "#=============================================================================================================================\n",
        "\n",
        "X = df_fraude_creditcard.iloc[:, :-1].copy(deep=True)\n",
        "X.head()"
      ]
    },
    {
      "cell_type": "code",
      "execution_count": null,
      "id": "4cf6cefc",
      "metadata": {
        "id": "4cf6cefc",
        "outputId": "c34d4e85-bc5f-4656-f0eb-0a11288d52d7"
      },
      "outputs": [
        {
          "data": {
            "text/plain": [
              "distance_from_home                 20.239733\n",
              "distance_from_last_transaction    125.921226\n",
              "ratio_to_median_purchase_price      8.915015\n",
              "repeat_retailer                    -2.361310\n",
              "used_chip                           0.627134\n",
              "used_pin_number                     2.655457\n",
              "online_order                       -0.631517\n",
              "dtype: float64"
            ]
          },
          "execution_count": 28,
          "metadata": {},
          "output_type": "execute_result"
        }
      ],
      "source": [
        "# Verify the symmetries\n",
        "#=============================================================================================================================\n",
        "\n",
        "X.skew()"
      ]
    },
    {
      "cell_type": "code",
      "execution_count": null,
      "id": "8d977bc6",
      "metadata": {
        "id": "8d977bc6"
      },
      "outputs": [],
      "source": [
        "#Initialize the transformers\n",
        "#=============================================================================================================================\n",
        "\n",
        "nrm_transformer = Normalizer()\n",
        "pow_transformer = PowerTransformer()"
      ]
    },
    {
      "cell_type": "code",
      "execution_count": null,
      "id": "7a2e3249",
      "metadata": {
        "id": "7a2e3249"
      },
      "outputs": [],
      "source": [
        "#Initialize the instances for the transformations: because of having the information to biased, we did 3 concatenated transformations.\n",
        "#=============================================================================================================================\n",
        "\n",
        "X = quantile_transform(X)\n",
        "X = nrm_transformer.fit_transform(X)\n",
        "X = pow_transformer.fit_transform(X)"
      ]
    },
    {
      "cell_type": "code",
      "execution_count": null,
      "id": "d0105275",
      "metadata": {
        "id": "d0105275",
        "outputId": "e34de438-4d5d-4265-ecfc-bfe7d928fddc"
      },
      "outputs": [
        {
          "data": {
            "text/html": [
              "<div>\n",
              "<style scoped>\n",
              "    .dataframe tbody tr th:only-of-type {\n",
              "        vertical-align: middle;\n",
              "    }\n",
              "\n",
              "    .dataframe tbody tr th {\n",
              "        vertical-align: top;\n",
              "    }\n",
              "\n",
              "    .dataframe thead th {\n",
              "        text-align: right;\n",
              "    }\n",
              "</style>\n",
              "<table border=\"1\" class=\"dataframe\">\n",
              "  <thead>\n",
              "    <tr style=\"text-align: right;\">\n",
              "      <th></th>\n",
              "      <th>0</th>\n",
              "      <th>1</th>\n",
              "      <th>2</th>\n",
              "      <th>3</th>\n",
              "      <th>4</th>\n",
              "      <th>5</th>\n",
              "      <th>6</th>\n",
              "    </tr>\n",
              "  </thead>\n",
              "  <tbody>\n",
              "    <tr>\n",
              "      <th>0</th>\n",
              "      <td>1.235628</td>\n",
              "      <td>-0.895076</td>\n",
              "      <td>0.610596</td>\n",
              "      <td>-0.057858</td>\n",
              "      <td>1.374619</td>\n",
              "      <td>-0.334458</td>\n",
              "      <td>-1.288911</td>\n",
              "    </tr>\n",
              "    <tr>\n",
              "      <th>1</th>\n",
              "      <td>0.772181</td>\n",
              "      <td>-0.960578</td>\n",
              "      <td>0.949577</td>\n",
              "      <td>1.769323</td>\n",
              "      <td>-0.733769</td>\n",
              "      <td>-0.334458</td>\n",
              "      <td>-1.288911</td>\n",
              "    </tr>\n",
              "    <tr>\n",
              "      <th>2</th>\n",
              "      <td>-0.500739</td>\n",
              "      <td>0.061775</td>\n",
              "      <td>-0.881702</td>\n",
              "      <td>0.696206</td>\n",
              "      <td>-0.733769</td>\n",
              "      <td>-0.334458</td>\n",
              "      <td>1.068208</td>\n",
              "    </tr>\n",
              "    <tr>\n",
              "      <th>3</th>\n",
              "      <td>-1.370221</td>\n",
              "      <td>0.790197</td>\n",
              "      <td>-1.227377</td>\n",
              "      <td>-0.213634</td>\n",
              "      <td>1.346597</td>\n",
              "      <td>-0.334458</td>\n",
              "      <td>0.476343</td>\n",
              "    </tr>\n",
              "    <tr>\n",
              "      <th>4</th>\n",
              "      <td>0.750063</td>\n",
              "      <td>-0.646694</td>\n",
              "      <td>0.442875</td>\n",
              "      <td>-0.457736</td>\n",
              "      <td>1.293186</td>\n",
              "      <td>-0.334458</td>\n",
              "      <td>0.297717</td>\n",
              "    </tr>\n",
              "    <tr>\n",
              "      <th>5</th>\n",
              "      <td>-0.268246</td>\n",
              "      <td>1.862269</td>\n",
              "      <td>-1.858397</td>\n",
              "      <td>1.183174</td>\n",
              "      <td>-0.733769</td>\n",
              "      <td>-0.334458</td>\n",
              "      <td>-1.288911</td>\n",
              "    </tr>\n",
              "    <tr>\n",
              "      <th>6</th>\n",
              "      <td>-0.811831</td>\n",
              "      <td>0.216542</td>\n",
              "      <td>-1.303134</td>\n",
              "      <td>0.737493</td>\n",
              "      <td>-0.733769</td>\n",
              "      <td>-0.334458</td>\n",
              "      <td>1.092880</td>\n",
              "    </tr>\n",
              "    <tr>\n",
              "      <th>7</th>\n",
              "      <td>-0.593225</td>\n",
              "      <td>-0.721562</td>\n",
              "      <td>0.486179</td>\n",
              "      <td>0.543904</td>\n",
              "      <td>-0.733769</td>\n",
              "      <td>2.990136</td>\n",
              "      <td>-1.288911</td>\n",
              "    </tr>\n",
              "    <tr>\n",
              "      <th>8</th>\n",
              "      <td>-1.579682</td>\n",
              "      <td>2.170239</td>\n",
              "      <td>1.956139</td>\n",
              "      <td>-1.998180</td>\n",
              "      <td>-0.733769</td>\n",
              "      <td>-0.334458</td>\n",
              "      <td>-1.288911</td>\n",
              "    </tr>\n",
              "    <tr>\n",
              "      <th>9</th>\n",
              "      <td>-0.185471</td>\n",
              "      <td>0.622665</td>\n",
              "      <td>0.779366</td>\n",
              "      <td>-0.040434</td>\n",
              "      <td>-0.733769</td>\n",
              "      <td>-0.334458</td>\n",
              "      <td>0.597206</td>\n",
              "    </tr>\n",
              "  </tbody>\n",
              "</table>\n",
              "</div>"
            ],
            "text/plain": [
              "          0         1         2         3         4         5         6\n",
              "0  1.235628 -0.895076  0.610596 -0.057858  1.374619 -0.334458 -1.288911\n",
              "1  0.772181 -0.960578  0.949577  1.769323 -0.733769 -0.334458 -1.288911\n",
              "2 -0.500739  0.061775 -0.881702  0.696206 -0.733769 -0.334458  1.068208\n",
              "3 -1.370221  0.790197 -1.227377 -0.213634  1.346597 -0.334458  0.476343\n",
              "4  0.750063 -0.646694  0.442875 -0.457736  1.293186 -0.334458  0.297717\n",
              "5 -0.268246  1.862269 -1.858397  1.183174 -0.733769 -0.334458 -1.288911\n",
              "6 -0.811831  0.216542 -1.303134  0.737493 -0.733769 -0.334458  1.092880\n",
              "7 -0.593225 -0.721562  0.486179  0.543904 -0.733769  2.990136 -1.288911\n",
              "8 -1.579682  2.170239  1.956139 -1.998180 -0.733769 -0.334458 -1.288911\n",
              "9 -0.185471  0.622665  0.779366 -0.040434 -0.733769 -0.334458  0.597206"
            ]
          },
          "execution_count": 31,
          "metadata": {},
          "output_type": "execute_result"
        }
      ],
      "source": [
        "# Final X Dataframe\n",
        "#=============================================================================================================================\n",
        "\n",
        "X = pd.DataFrame(X)\n",
        "X.head(10)"
      ]
    },
    {
      "cell_type": "code",
      "execution_count": null,
      "id": "4cea3f72",
      "metadata": {
        "id": "4cea3f72",
        "outputId": "faf6ec2a-fb9b-4edf-b24b-6ad64ca96686"
      },
      "outputs": [
        {
          "data": {
            "text/plain": [
              "0   -0.026013\n",
              "1    0.004327\n",
              "2    0.004550\n",
              "3    0.046423\n",
              "4    0.632974\n",
              "5    2.655457\n",
              "6   -0.223229\n",
              "dtype: float64"
            ]
          },
          "execution_count": 32,
          "metadata": {},
          "output_type": "execute_result"
        }
      ],
      "source": [
        "# Verify the symmetries again\n",
        "#=============================================================================================================================\n",
        "\n",
        "X.skew()"
      ]
    },
    {
      "cell_type": "markdown",
      "id": "b5120f9e",
      "metadata": {
        "id": "b5120f9e"
      },
      "source": [
        "**Conclusion**: although we did the data transformation, the \"used_pin_number\" variable continuos biased."
      ]
    },
    {
      "cell_type": "markdown",
      "id": "defbabb4",
      "metadata": {
        "id": "defbabb4"
      },
      "source": [
        " "
      ]
    },
    {
      "cell_type": "markdown",
      "id": "093654d3",
      "metadata": {
        "id": "093654d3"
      },
      "source": [
        "***2°: Working with variable \"target\"***"
      ]
    },
    {
      "cell_type": "code",
      "execution_count": null,
      "id": "54533d36",
      "metadata": {
        "id": "54533d36",
        "outputId": "ad4f7a2d-72b6-4352-d1ef-c9d8b1c1fa60"
      },
      "outputs": [
        {
          "data": {
            "text/plain": [
              "0         0.0\n",
              "1         0.0\n",
              "2         0.0\n",
              "3         0.0\n",
              "4         0.0\n",
              "         ... \n",
              "999995    0.0\n",
              "999996    0.0\n",
              "999997    0.0\n",
              "999998    0.0\n",
              "999999    0.0\n",
              "Name: fraud, Length: 1000000, dtype: float64"
            ]
          },
          "execution_count": 33,
          "metadata": {},
          "output_type": "execute_result"
        }
      ],
      "source": [
        "# Define the target variable\n",
        "#=============================================================================================================================\n",
        "\n",
        "y = df_fraude_creditcard[\"fraud\"].copy(deep=True)\n",
        "y"
      ]
    },
    {
      "cell_type": "markdown",
      "id": "440d7e72",
      "metadata": {
        "id": "440d7e72"
      },
      "source": [
        " "
      ]
    },
    {
      "cell_type": "markdown",
      "id": "2920a88b",
      "metadata": {
        "id": "2920a88b"
      },
      "source": [
        "***3°: Separate train and test with the \"train test split\" method***"
      ]
    },
    {
      "cell_type": "code",
      "execution_count": null,
      "id": "7e2db1b7",
      "metadata": {
        "id": "7e2db1b7"
      },
      "outputs": [],
      "source": [
        "# Select the percentage of the test and train: 30% for test and 70% for train.\n",
        "#=============================================================================================================================\n",
        "\n",
        "X_train, X_test, y_train, y_test = train_test_split(X, y, test_size=0.30, random_state=42) "
      ]
    },
    {
      "cell_type": "markdown",
      "id": "2c47f5af",
      "metadata": {
        "id": "2c47f5af"
      },
      "source": [
        " "
      ]
    },
    {
      "cell_type": "markdown",
      "id": "3ec1bfd2",
      "metadata": {
        "id": "3ec1bfd2"
      },
      "source": [
        "***4°: Initialize the models***"
      ]
    },
    {
      "cell_type": "code",
      "execution_count": null,
      "id": "c2e3a0fc",
      "metadata": {
        "id": "c2e3a0fc"
      },
      "outputs": [],
      "source": [
        "# Initialize the models\n",
        "#=============================================================================================================================\n",
        "\n",
        "knn = KNeighborsClassifier()\n",
        "lgr = LogisticRegression()\n",
        "rfc = RandomForestClassifier()"
      ]
    },
    {
      "cell_type": "markdown",
      "id": "07685017",
      "metadata": {
        "id": "07685017"
      },
      "source": [
        " "
      ]
    },
    {
      "cell_type": "markdown",
      "id": "11d20cd5",
      "metadata": {
        "id": "11d20cd5"
      },
      "source": [
        "**KNN Model**"
      ]
    },
    {
      "cell_type": "code",
      "execution_count": null,
      "id": "24047a0d",
      "metadata": {
        "id": "24047a0d",
        "outputId": "a0ab1d16-1370-45e3-8a35-f9303428cecf"
      },
      "outputs": [
        {
          "data": {
            "text/html": [
              "<style>#sk-container-id-1 {color: black;background-color: white;}#sk-container-id-1 pre{padding: 0;}#sk-container-id-1 div.sk-toggleable {background-color: white;}#sk-container-id-1 label.sk-toggleable__label {cursor: pointer;display: block;width: 100%;margin-bottom: 0;padding: 0.3em;box-sizing: border-box;text-align: center;}#sk-container-id-1 label.sk-toggleable__label-arrow:before {content: \"▸\";float: left;margin-right: 0.25em;color: #696969;}#sk-container-id-1 label.sk-toggleable__label-arrow:hover:before {color: black;}#sk-container-id-1 div.sk-estimator:hover label.sk-toggleable__label-arrow:before {color: black;}#sk-container-id-1 div.sk-toggleable__content {max-height: 0;max-width: 0;overflow: hidden;text-align: left;background-color: #f0f8ff;}#sk-container-id-1 div.sk-toggleable__content pre {margin: 0.2em;color: black;border-radius: 0.25em;background-color: #f0f8ff;}#sk-container-id-1 input.sk-toggleable__control:checked~div.sk-toggleable__content {max-height: 200px;max-width: 100%;overflow: auto;}#sk-container-id-1 input.sk-toggleable__control:checked~label.sk-toggleable__label-arrow:before {content: \"▾\";}#sk-container-id-1 div.sk-estimator input.sk-toggleable__control:checked~label.sk-toggleable__label {background-color: #d4ebff;}#sk-container-id-1 div.sk-label input.sk-toggleable__control:checked~label.sk-toggleable__label {background-color: #d4ebff;}#sk-container-id-1 input.sk-hidden--visually {border: 0;clip: rect(1px 1px 1px 1px);clip: rect(1px, 1px, 1px, 1px);height: 1px;margin: -1px;overflow: hidden;padding: 0;position: absolute;width: 1px;}#sk-container-id-1 div.sk-estimator {font-family: monospace;background-color: #f0f8ff;border: 1px dotted black;border-radius: 0.25em;box-sizing: border-box;margin-bottom: 0.5em;}#sk-container-id-1 div.sk-estimator:hover {background-color: #d4ebff;}#sk-container-id-1 div.sk-parallel-item::after {content: \"\";width: 100%;border-bottom: 1px solid gray;flex-grow: 1;}#sk-container-id-1 div.sk-label:hover label.sk-toggleable__label {background-color: #d4ebff;}#sk-container-id-1 div.sk-serial::before {content: \"\";position: absolute;border-left: 1px solid gray;box-sizing: border-box;top: 0;bottom: 0;left: 50%;z-index: 0;}#sk-container-id-1 div.sk-serial {display: flex;flex-direction: column;align-items: center;background-color: white;padding-right: 0.2em;padding-left: 0.2em;position: relative;}#sk-container-id-1 div.sk-item {position: relative;z-index: 1;}#sk-container-id-1 div.sk-parallel {display: flex;align-items: stretch;justify-content: center;background-color: white;position: relative;}#sk-container-id-1 div.sk-item::before, #sk-container-id-1 div.sk-parallel-item::before {content: \"\";position: absolute;border-left: 1px solid gray;box-sizing: border-box;top: 0;bottom: 0;left: 50%;z-index: -1;}#sk-container-id-1 div.sk-parallel-item {display: flex;flex-direction: column;z-index: 1;position: relative;background-color: white;}#sk-container-id-1 div.sk-parallel-item:first-child::after {align-self: flex-end;width: 50%;}#sk-container-id-1 div.sk-parallel-item:last-child::after {align-self: flex-start;width: 50%;}#sk-container-id-1 div.sk-parallel-item:only-child::after {width: 0;}#sk-container-id-1 div.sk-dashed-wrapped {border: 1px dashed gray;margin: 0 0.4em 0.5em 0.4em;box-sizing: border-box;padding-bottom: 0.4em;background-color: white;}#sk-container-id-1 div.sk-label label {font-family: monospace;font-weight: bold;display: inline-block;line-height: 1.2em;}#sk-container-id-1 div.sk-label-container {text-align: center;}#sk-container-id-1 div.sk-container {/* jupyter's `normalize.less` sets `[hidden] { display: none; }` but bootstrap.min.css set `[hidden] { display: none !important; }` so we also need the `!important` here to be able to override the default hidden behavior on the sphinx rendered scikit-learn.org. See: https://github.com/scikit-learn/scikit-learn/issues/21755 */display: inline-block !important;position: relative;}#sk-container-id-1 div.sk-text-repr-fallback {display: none;}</style><div id=\"sk-container-id-1\" class=\"sk-top-container\"><div class=\"sk-text-repr-fallback\"><pre>KNeighborsClassifier()</pre><b>In a Jupyter environment, please rerun this cell to show the HTML representation or trust the notebook. <br />On GitHub, the HTML representation is unable to render, please try loading this page with nbviewer.org.</b></div><div class=\"sk-container\" hidden><div class=\"sk-item\"><div class=\"sk-estimator sk-toggleable\"><input class=\"sk-toggleable__control sk-hidden--visually\" id=\"sk-estimator-id-1\" type=\"checkbox\" checked><label for=\"sk-estimator-id-1\" class=\"sk-toggleable__label sk-toggleable__label-arrow\">KNeighborsClassifier</label><div class=\"sk-toggleable__content\"><pre>KNeighborsClassifier()</pre></div></div></div></div></div>"
            ],
            "text/plain": [
              "KNeighborsClassifier()"
            ]
          },
          "execution_count": 36,
          "metadata": {},
          "output_type": "execute_result"
        }
      ],
      "source": [
        "# Train KNN\n",
        "#=============================================================================================================================\n",
        "\n",
        "knn.fit(X_train,y_train)"
      ]
    },
    {
      "cell_type": "code",
      "execution_count": null,
      "id": "ead96b28",
      "metadata": {
        "id": "ead96b28",
        "outputId": "7453e60f-90de-43bd-fc62-61b177628cdb"
      },
      "outputs": [
        {
          "data": {
            "text/plain": [
              "array([0., 0., 0., ..., 0., 0., 1.])"
            ]
          },
          "execution_count": 37,
          "metadata": {},
          "output_type": "execute_result"
        }
      ],
      "source": [
        "# Prediction with KNN\n",
        "#=============================================================================================================================\n",
        "\n",
        "knn.predict(X_test)"
      ]
    },
    {
      "cell_type": "markdown",
      "id": "a9260da3",
      "metadata": {
        "id": "a9260da3"
      },
      "source": [
        " "
      ]
    },
    {
      "cell_type": "code",
      "execution_count": null,
      "id": "83dfc846",
      "metadata": {
        "id": "83dfc846",
        "outputId": "f81bc3c3-d18c-46e6-b632-5f2e0a7b9285"
      },
      "outputs": [
        {
          "data": {
            "text/plain": [
              "987231    0.0\n",
              "79954     0.0\n",
              "567130    0.0\n",
              "500891    0.0\n",
              "55399     0.0\n",
              "         ... \n",
              "463299    0.0\n",
              "728324    0.0\n",
              "76260     0.0\n",
              "77813     0.0\n",
              "718205    1.0\n",
              "Name: fraud, Length: 300000, dtype: float64"
            ]
          },
          "execution_count": 38,
          "metadata": {},
          "output_type": "execute_result"
        }
      ],
      "source": [
        "y_test"
      ]
    },
    {
      "cell_type": "code",
      "execution_count": null,
      "id": "35fe1e58",
      "metadata": {
        "id": "35fe1e58",
        "outputId": "33a310e0-d855-412f-9ecf-ca2204ed6fd2"
      },
      "outputs": [
        {
          "name": "stdout",
          "output_type": "stream",
          "text": [
            "Precision Score of the classifier is: 0.9514662872500198\n"
          ]
        }
      ],
      "source": [
        "# Precision metric - KNN Model\n",
        "#=============================================================================================================================\n",
        "\n",
        "print(f\"Precision Score of the classifier is: {precision_score(y_test, knn.predict(X_test))}\")"
      ]
    },
    {
      "cell_type": "code",
      "execution_count": null,
      "id": "fb8c19c6",
      "metadata": {
        "id": "fb8c19c6",
        "outputId": "ece9d23a-dba0-47eb-b0b9-c8d5f81f46d2"
      },
      "outputs": [
        {
          "name": "stdout",
          "output_type": "stream",
          "text": [
            "Recall Score of the classifier is: 0.9213517547552528\n"
          ]
        }
      ],
      "source": [
        "# Recall metric - KNN Model\n",
        "#=============================================================================================================================\n",
        "\n",
        "print(f\"Recall Score of the classifier is: {recall_score(y_test, knn.predict(X_test))}\")"
      ]
    },
    {
      "cell_type": "code",
      "execution_count": null,
      "id": "98c0af4b",
      "metadata": {
        "id": "98c0af4b",
        "outputId": "6c815951-8b31-4d47-91c2-d4d5f6589f9d"
      },
      "outputs": [
        {
          "name": "stdout",
          "output_type": "stream",
          "text": [
            "[[272643   1228]\n",
            " [  2055  24074]]\n"
          ]
        },
        {
          "name": "stderr",
          "output_type": "stream",
          "text": [
            "C:\\Users\\Pablo\\miniconda3\\lib\\site-packages\\sklearn\\utils\\deprecation.py:87: FutureWarning: Function plot_confusion_matrix is deprecated; Function `plot_confusion_matrix` is deprecated in 1.0 and will be removed in 1.2. Use one of the class methods: ConfusionMatrixDisplay.from_predictions or ConfusionMatrixDisplay.from_estimator.\n",
            "  warnings.warn(msg, category=FutureWarning)\n"
          ]
        },
        {
          "data": {
            "image/png": "[encoded data removed]",
            "text/plain": [
              "<Figure size 432x288 with 2 Axes>"
            ]
          },
          "metadata": {
            "needs_background": "light"
          },
          "output_type": "display_data"
        }
      ],
      "source": [
        "# Confusion matrix - KNN Model\n",
        "#=============================================================================================================================\n",
        "\n",
        "print(confusion_matrix(y_test, knn.predict(X_test)))\n",
        "\n",
        "# Plot the Matrix\n",
        "#=============================================================================================================================\n",
        "\n",
        "plot_confusion_matrix(knn, X_test, y_test)\n",
        "plt.show()"
      ]
    },
    {
      "cell_type": "markdown",
      "id": "9e7afdd4",
      "metadata": {
        "id": "9e7afdd4"
      },
      "source": [
        " "
      ]
    },
    {
      "cell_type": "markdown",
      "id": "3007347d",
      "metadata": {
        "id": "3007347d"
      },
      "source": [
        "**Logistic Regression Model**"
      ]
    },
    {
      "cell_type": "code",
      "execution_count": null,
      "id": "ed6c6516",
      "metadata": {
        "id": "ed6c6516",
        "outputId": "8d54a0e8-4f51-46d4-fc44-e92ce4a94e9b"
      },
      "outputs": [
        {
          "data": {
            "text/html": [
              "<style>#sk-container-id-2 {color: black;background-color: white;}#sk-container-id-2 pre{padding: 0;}#sk-container-id-2 div.sk-toggleable {background-color: white;}#sk-container-id-2 label.sk-toggleable__label {cursor: pointer;display: block;width: 100%;margin-bottom: 0;padding: 0.3em;box-sizing: border-box;text-align: center;}#sk-container-id-2 label.sk-toggleable__label-arrow:before {content: \"▸\";float: left;margin-right: 0.25em;color: #696969;}#sk-container-id-2 label.sk-toggleable__label-arrow:hover:before {color: black;}#sk-container-id-2 div.sk-estimator:hover label.sk-toggleable__label-arrow:before {color: black;}#sk-container-id-2 div.sk-toggleable__content {max-height: 0;max-width: 0;overflow: hidden;text-align: left;background-color: #f0f8ff;}#sk-container-id-2 div.sk-toggleable__content pre {margin: 0.2em;color: black;border-radius: 0.25em;background-color: #f0f8ff;}#sk-container-id-2 input.sk-toggleable__control:checked~div.sk-toggleable__content {max-height: 200px;max-width: 100%;overflow: auto;}#sk-container-id-2 input.sk-toggleable__control:checked~label.sk-toggleable__label-arrow:before {content: \"▾\";}#sk-container-id-2 div.sk-estimator input.sk-toggleable__control:checked~label.sk-toggleable__label {background-color: #d4ebff;}#sk-container-id-2 div.sk-label input.sk-toggleable__control:checked~label.sk-toggleable__label {background-color: #d4ebff;}#sk-container-id-2 input.sk-hidden--visually {border: 0;clip: rect(1px 1px 1px 1px);clip: rect(1px, 1px, 1px, 1px);height: 1px;margin: -1px;overflow: hidden;padding: 0;position: absolute;width: 1px;}#sk-container-id-2 div.sk-estimator {font-family: monospace;background-color: #f0f8ff;border: 1px dotted black;border-radius: 0.25em;box-sizing: border-box;margin-bottom: 0.5em;}#sk-container-id-2 div.sk-estimator:hover {background-color: #d4ebff;}#sk-container-id-2 div.sk-parallel-item::after {content: \"\";width: 100%;border-bottom: 1px solid gray;flex-grow: 1;}#sk-container-id-2 div.sk-label:hover label.sk-toggleable__label {background-color: #d4ebff;}#sk-container-id-2 div.sk-serial::before {content: \"\";position: absolute;border-left: 1px solid gray;box-sizing: border-box;top: 0;bottom: 0;left: 50%;z-index: 0;}#sk-container-id-2 div.sk-serial {display: flex;flex-direction: column;align-items: center;background-color: white;padding-right: 0.2em;padding-left: 0.2em;position: relative;}#sk-container-id-2 div.sk-item {position: relative;z-index: 1;}#sk-container-id-2 div.sk-parallel {display: flex;align-items: stretch;justify-content: center;background-color: white;position: relative;}#sk-container-id-2 div.sk-item::before, #sk-container-id-2 div.sk-parallel-item::before {content: \"\";position: absolute;border-left: 1px solid gray;box-sizing: border-box;top: 0;bottom: 0;left: 50%;z-index: -1;}#sk-container-id-2 div.sk-parallel-item {display: flex;flex-direction: column;z-index: 1;position: relative;background-color: white;}#sk-container-id-2 div.sk-parallel-item:first-child::after {align-self: flex-end;width: 50%;}#sk-container-id-2 div.sk-parallel-item:last-child::after {align-self: flex-start;width: 50%;}#sk-container-id-2 div.sk-parallel-item:only-child::after {width: 0;}#sk-container-id-2 div.sk-dashed-wrapped {border: 1px dashed gray;margin: 0 0.4em 0.5em 0.4em;box-sizing: border-box;padding-bottom: 0.4em;background-color: white;}#sk-container-id-2 div.sk-label label {font-family: monospace;font-weight: bold;display: inline-block;line-height: 1.2em;}#sk-container-id-2 div.sk-label-container {text-align: center;}#sk-container-id-2 div.sk-container {/* jupyter's `normalize.less` sets `[hidden] { display: none; }` but bootstrap.min.css set `[hidden] { display: none !important; }` so we also need the `!important` here to be able to override the default hidden behavior on the sphinx rendered scikit-learn.org. See: https://github.com/scikit-learn/scikit-learn/issues/21755 */display: inline-block !important;position: relative;}#sk-container-id-2 div.sk-text-repr-fallback {display: none;}</style><div id=\"sk-container-id-2\" class=\"sk-top-container\"><div class=\"sk-text-repr-fallback\"><pre>LogisticRegression()</pre><b>In a Jupyter environment, please rerun this cell to show the HTML representation or trust the notebook. <br />On GitHub, the HTML representation is unable to render, please try loading this page with nbviewer.org.</b></div><div class=\"sk-container\" hidden><div class=\"sk-item\"><div class=\"sk-estimator sk-toggleable\"><input class=\"sk-toggleable__control sk-hidden--visually\" id=\"sk-estimator-id-2\" type=\"checkbox\" checked><label for=\"sk-estimator-id-2\" class=\"sk-toggleable__label sk-toggleable__label-arrow\">LogisticRegression</label><div class=\"sk-toggleable__content\"><pre>LogisticRegression()</pre></div></div></div></div></div>"
            ],
            "text/plain": [
              "LogisticRegression()"
            ]
          },
          "execution_count": 42,
          "metadata": {},
          "output_type": "execute_result"
        }
      ],
      "source": [
        "# Train Logistic Regression\n",
        "#=============================================================================================================================\n",
        "\n",
        "lgr.fit(X_train, y_train)"
      ]
    },
    {
      "cell_type": "code",
      "execution_count": null,
      "id": "99eb433d",
      "metadata": {
        "id": "99eb433d",
        "outputId": "030531da-80f1-47c4-eca6-5ecf2f2a1701"
      },
      "outputs": [
        {
          "data": {
            "text/plain": [
              "array([0., 0., 0., ..., 0., 0., 0.])"
            ]
          },
          "execution_count": 43,
          "metadata": {},
          "output_type": "execute_result"
        }
      ],
      "source": [
        "# Prediction with Logistic Regression\n",
        "#=============================================================================================================================\n",
        "\n",
        "lgr.predict(X_test)"
      ]
    },
    {
      "cell_type": "code",
      "execution_count": null,
      "id": "469e8867",
      "metadata": {
        "id": "469e8867",
        "outputId": "cf418460-be24-4d30-88ce-2d3d153c238a"
      },
      "outputs": [
        {
          "data": {
            "text/plain": [
              "987231    0.0\n",
              "79954     0.0\n",
              "567130    0.0\n",
              "500891    0.0\n",
              "55399     0.0\n",
              "         ... \n",
              "463299    0.0\n",
              "728324    0.0\n",
              "76260     0.0\n",
              "77813     0.0\n",
              "718205    1.0\n",
              "Name: fraud, Length: 300000, dtype: float64"
            ]
          },
          "execution_count": 44,
          "metadata": {},
          "output_type": "execute_result"
        }
      ],
      "source": [
        "y_test"
      ]
    },
    {
      "cell_type": "code",
      "execution_count": null,
      "id": "a1347002",
      "metadata": {
        "id": "a1347002",
        "outputId": "5e3de947-e9ed-4ae7-f278-0f8b8ce5bd0f"
      },
      "outputs": [
        {
          "name": "stdout",
          "output_type": "stream",
          "text": [
            "Precision Score of the classifier is: 0.7125389594821385\n"
          ]
        }
      ],
      "source": [
        "# Precision metric - LR Model\n",
        "#=============================================================================================================================\n",
        "\n",
        "print(f\"Precision Score of the classifier is: {precision_score(y_test, lgr.predict(X_test))}\")"
      ]
    },
    {
      "cell_type": "code",
      "execution_count": null,
      "id": "df82e49f",
      "metadata": {
        "id": "df82e49f",
        "outputId": "dd6483b9-50e8-488e-eac5-8ba7060a64cf"
      },
      "outputs": [
        {
          "name": "stdout",
          "output_type": "stream",
          "text": [
            "Recall Score of the classifier is: 0.11374335030043246\n"
          ]
        }
      ],
      "source": [
        "# Recall metric - LR Model\n",
        "#=============================================================================================================================\n",
        "\n",
        "print(f\"Recall Score of the classifier is: {recall_score(y_test, lgr.predict(X_test))}\")"
      ]
    },
    {
      "cell_type": "code",
      "execution_count": null,
      "id": "852aa05b",
      "metadata": {
        "id": "852aa05b",
        "outputId": "519afe22-478d-4b1f-ac23-557e5383e5df"
      },
      "outputs": [
        {
          "name": "stdout",
          "output_type": "stream",
          "text": [
            "[[272672   1199]\n",
            " [ 23157   2972]]\n"
          ]
        },
        {
          "name": "stderr",
          "output_type": "stream",
          "text": [
            "C:\\Users\\Pablo\\miniconda3\\lib\\site-packages\\sklearn\\utils\\deprecation.py:87: FutureWarning: Function plot_confusion_matrix is deprecated; Function `plot_confusion_matrix` is deprecated in 1.0 and will be removed in 1.2. Use one of the class methods: ConfusionMatrixDisplay.from_predictions or ConfusionMatrixDisplay.from_estimator.\n",
            "  warnings.warn(msg, category=FutureWarning)\n"
          ]
        },
        {
          "data": {
            "image/png": "[encoded data removed]",
            "text/plain": [
              "<Figure size 432x288 with 2 Axes>"
            ]
          },
          "metadata": {
            "needs_background": "light"
          },
          "output_type": "display_data"
        }
      ],
      "source": [
        "# Confusion matrix - RL Model\n",
        "#=============================================================================================================================\n",
        "\n",
        "print(confusion_matrix(y_test, lgr.predict(X_test)))\n",
        "\n",
        "# Plot the Matrix\n",
        "#=============================================================================================================================\n",
        "\n",
        "plot_confusion_matrix(lgr, X_test, y_test)\n",
        "plt.show()"
      ]
    },
    {
      "cell_type": "markdown",
      "id": "4495f119",
      "metadata": {
        "id": "4495f119"
      },
      "source": [
        " "
      ]
    },
    {
      "cell_type": "markdown",
      "id": "1b144c63",
      "metadata": {
        "id": "1b144c63"
      },
      "source": [
        "**Random Forest Model**"
      ]
    },
    {
      "cell_type": "code",
      "execution_count": null,
      "id": "408b0ef1",
      "metadata": {
        "id": "408b0ef1",
        "outputId": "7e596892-e4f8-41e0-b843-ec868b36abc1"
      },
      "outputs": [
        {
          "data": {
            "text/html": [
              "<style>#sk-container-id-3 {color: black;background-color: white;}#sk-container-id-3 pre{padding: 0;}#sk-container-id-3 div.sk-toggleable {background-color: white;}#sk-container-id-3 label.sk-toggleable__label {cursor: pointer;display: block;width: 100%;margin-bottom: 0;padding: 0.3em;box-sizing: border-box;text-align: center;}#sk-container-id-3 label.sk-toggleable__label-arrow:before {content: \"▸\";float: left;margin-right: 0.25em;color: #696969;}#sk-container-id-3 label.sk-toggleable__label-arrow:hover:before {color: black;}#sk-container-id-3 div.sk-estimator:hover label.sk-toggleable__label-arrow:before {color: black;}#sk-container-id-3 div.sk-toggleable__content {max-height: 0;max-width: 0;overflow: hidden;text-align: left;background-color: #f0f8ff;}#sk-container-id-3 div.sk-toggleable__content pre {margin: 0.2em;color: black;border-radius: 0.25em;background-color: #f0f8ff;}#sk-container-id-3 input.sk-toggleable__control:checked~div.sk-toggleable__content {max-height: 200px;max-width: 100%;overflow: auto;}#sk-container-id-3 input.sk-toggleable__control:checked~label.sk-toggleable__label-arrow:before {content: \"▾\";}#sk-container-id-3 div.sk-estimator input.sk-toggleable__control:checked~label.sk-toggleable__label {background-color: #d4ebff;}#sk-container-id-3 div.sk-label input.sk-toggleable__control:checked~label.sk-toggleable__label {background-color: #d4ebff;}#sk-container-id-3 input.sk-hidden--visually {border: 0;clip: rect(1px 1px 1px 1px);clip: rect(1px, 1px, 1px, 1px);height: 1px;margin: -1px;overflow: hidden;padding: 0;position: absolute;width: 1px;}#sk-container-id-3 div.sk-estimator {font-family: monospace;background-color: #f0f8ff;border: 1px dotted black;border-radius: 0.25em;box-sizing: border-box;margin-bottom: 0.5em;}#sk-container-id-3 div.sk-estimator:hover {background-color: #d4ebff;}#sk-container-id-3 div.sk-parallel-item::after {content: \"\";width: 100%;border-bottom: 1px solid gray;flex-grow: 1;}#sk-container-id-3 div.sk-label:hover label.sk-toggleable__label {background-color: #d4ebff;}#sk-container-id-3 div.sk-serial::before {content: \"\";position: absolute;border-left: 1px solid gray;box-sizing: border-box;top: 0;bottom: 0;left: 50%;z-index: 0;}#sk-container-id-3 div.sk-serial {display: flex;flex-direction: column;align-items: center;background-color: white;padding-right: 0.2em;padding-left: 0.2em;position: relative;}#sk-container-id-3 div.sk-item {position: relative;z-index: 1;}#sk-container-id-3 div.sk-parallel {display: flex;align-items: stretch;justify-content: center;background-color: white;position: relative;}#sk-container-id-3 div.sk-item::before, #sk-container-id-3 div.sk-parallel-item::before {content: \"\";position: absolute;border-left: 1px solid gray;box-sizing: border-box;top: 0;bottom: 0;left: 50%;z-index: -1;}#sk-container-id-3 div.sk-parallel-item {display: flex;flex-direction: column;z-index: 1;position: relative;background-color: white;}#sk-container-id-3 div.sk-parallel-item:first-child::after {align-self: flex-end;width: 50%;}#sk-container-id-3 div.sk-parallel-item:last-child::after {align-self: flex-start;width: 50%;}#sk-container-id-3 div.sk-parallel-item:only-child::after {width: 0;}#sk-container-id-3 div.sk-dashed-wrapped {border: 1px dashed gray;margin: 0 0.4em 0.5em 0.4em;box-sizing: border-box;padding-bottom: 0.4em;background-color: white;}#sk-container-id-3 div.sk-label label {font-family: monospace;font-weight: bold;display: inline-block;line-height: 1.2em;}#sk-container-id-3 div.sk-label-container {text-align: center;}#sk-container-id-3 div.sk-container {/* jupyter's `normalize.less` sets `[hidden] { display: none; }` but bootstrap.min.css set `[hidden] { display: none !important; }` so we also need the `!important` here to be able to override the default hidden behavior on the sphinx rendered scikit-learn.org. See: https://github.com/scikit-learn/scikit-learn/issues/21755 */display: inline-block !important;position: relative;}#sk-container-id-3 div.sk-text-repr-fallback {display: none;}</style><div id=\"sk-container-id-3\" class=\"sk-top-container\"><div class=\"sk-text-repr-fallback\"><pre>RandomForestClassifier()</pre><b>In a Jupyter environment, please rerun this cell to show the HTML representation or trust the notebook. <br />On GitHub, the HTML representation is unable to render, please try loading this page with nbviewer.org.</b></div><div class=\"sk-container\" hidden><div class=\"sk-item\"><div class=\"sk-estimator sk-toggleable\"><input class=\"sk-toggleable__control sk-hidden--visually\" id=\"sk-estimator-id-3\" type=\"checkbox\" checked><label for=\"sk-estimator-id-3\" class=\"sk-toggleable__label sk-toggleable__label-arrow\">RandomForestClassifier</label><div class=\"sk-toggleable__content\"><pre>RandomForestClassifier()</pre></div></div></div></div></div>"
            ],
            "text/plain": [
              "RandomForestClassifier()"
            ]
          },
          "execution_count": 48,
          "metadata": {},
          "output_type": "execute_result"
        }
      ],
      "source": [
        "# Train Random Forest\n",
        "#=============================================================================================================================\n",
        "\n",
        "rfc.fit(X_train, y_train)"
      ]
    },
    {
      "cell_type": "code",
      "execution_count": null,
      "id": "97839fe2",
      "metadata": {
        "id": "97839fe2",
        "outputId": "a268e989-945e-48b2-d08b-70431b945e44"
      },
      "outputs": [
        {
          "data": {
            "text/plain": [
              "array([0., 0., 0., ..., 0., 0., 1.])"
            ]
          },
          "execution_count": 49,
          "metadata": {},
          "output_type": "execute_result"
        }
      ],
      "source": [
        "# Prediction with Random Forest Model\n",
        "#=============================================================================================================================\n",
        "\n",
        "rfc.predict(X_test)"
      ]
    },
    {
      "cell_type": "code",
      "execution_count": null,
      "id": "51c52493",
      "metadata": {
        "id": "51c52493",
        "outputId": "cab4d64f-8d9c-443a-aa9e-dd4a8cc846fe"
      },
      "outputs": [
        {
          "data": {
            "text/plain": [
              "987231    0.0\n",
              "79954     0.0\n",
              "567130    0.0\n",
              "500891    0.0\n",
              "55399     0.0\n",
              "         ... \n",
              "463299    0.0\n",
              "728324    0.0\n",
              "76260     0.0\n",
              "77813     0.0\n",
              "718205    1.0\n",
              "Name: fraud, Length: 300000, dtype: float64"
            ]
          },
          "execution_count": 50,
          "metadata": {},
          "output_type": "execute_result"
        }
      ],
      "source": [
        "y_test"
      ]
    },
    {
      "cell_type": "code",
      "execution_count": null,
      "id": "3876b470",
      "metadata": {
        "id": "3876b470",
        "outputId": "ee007b72-a03a-4fd8-e3ac-e8f362a2e546"
      },
      "outputs": [
        {
          "name": "stdout",
          "output_type": "stream",
          "text": [
            "Precision Score of the classifier is: 0.9838596216976708\n"
          ]
        }
      ],
      "source": [
        "# Precision metric - Random Forest Model\n",
        "#=============================================================================================================================\n",
        "\n",
        "print(f\"Precision Score of the classifier is: {precision_score(y_test, rfc.predict(X_test))}\")"
      ]
    },
    {
      "cell_type": "code",
      "execution_count": null,
      "id": "1566b173",
      "metadata": {
        "id": "1566b173",
        "outputId": "dd7f5604-aeaa-4d0c-e6bc-eaa546321ca5"
      },
      "outputs": [
        {
          "name": "stdout",
          "output_type": "stream",
          "text": [
            "Recall Score of the classifier is: 0.9634888438133874\n"
          ]
        }
      ],
      "source": [
        "# Recall metric - Random Forest Model\n",
        "#=============================================================================================================================\n",
        "\n",
        "print(f\"Recall Score of the classifier is: {recall_score(y_test, rfc.predict(X_test))}\")"
      ]
    },
    {
      "cell_type": "code",
      "execution_count": null,
      "id": "99895ed6",
      "metadata": {
        "id": "99895ed6",
        "outputId": "0b56c22c-981e-4fce-d868-060e559f9fab"
      },
      "outputs": [
        {
          "name": "stdout",
          "output_type": "stream",
          "text": [
            "[[273458    413]\n",
            " [   954  25175]]\n"
          ]
        },
        {
          "name": "stderr",
          "output_type": "stream",
          "text": [
            "C:\\Users\\Pablo\\miniconda3\\lib\\site-packages\\sklearn\\utils\\deprecation.py:87: FutureWarning: Function plot_confusion_matrix is deprecated; Function `plot_confusion_matrix` is deprecated in 1.0 and will be removed in 1.2. Use one of the class methods: ConfusionMatrixDisplay.from_predictions or ConfusionMatrixDisplay.from_estimator.\n",
            "  warnings.warn(msg, category=FutureWarning)\n"
          ]
        },
        {
          "data": {
            "image/png": "[encoded data removed]",
            "text/plain": [
              "<Figure size 432x288 with 2 Axes>"
            ]
          },
          "metadata": {
            "needs_background": "light"
          },
          "output_type": "display_data"
        }
      ],
      "source": [
        "# Confusion matrix - Random Forest Model\n",
        "#=============================================================================================================================\n",
        "\n",
        "print(confusion_matrix(y_test, rfc.predict(X_test)))\n",
        "\n",
        "# Plot the Matrix\n",
        "#=============================================================================================================================\n",
        "\n",
        "plot_confusion_matrix(rfc, X_test, y_test)\n",
        "plt.show()"
      ]
    },
    {
      "cell_type": "markdown",
      "id": "708880b7",
      "metadata": {
        "id": "708880b7"
      },
      "source": [
        " "
      ]
    },
    {
      "cell_type": "markdown",
      "id": "88ea5a97",
      "metadata": {
        "id": "88ea5a97"
      },
      "source": [
        "**Evaluate all models** "
      ]
    },
    {
      "cell_type": "code",
      "execution_count": null,
      "id": "2e2bd360",
      "metadata": {
        "id": "2e2bd360",
        "outputId": "fb70bcdd-b1e5-4dc4-ed66-290ceff73912"
      },
      "outputs": [
        {
          "data": {
            "text/plain": [
              "array([[0.95146629, 0.71253896, 0.98385962],\n",
              "       [0.92135175, 0.11374335, 0.96348884]])"
            ]
          },
          "execution_count": 63,
          "metadata": {},
          "output_type": "execute_result"
        }
      ],
      "source": [
        "# Make an Array with the metrics score \n",
        "#=============================================================================================================================\n",
        "\n",
        "score = np.array([[precision_score(y_test, knn.predict(X_test)),precision_score(y_test, lgr.predict(X_test)),precision_score(y_test, rfc.predict(X_test))],\n",
        "                  [recall_score(y_test, knn.predict(X_test)),recall_score(y_test, lgr.predict(X_test)),recall_score(y_test, rfc.predict(X_test))]])\n",
        "score"
      ]
    },
    {
      "cell_type": "code",
      "execution_count": null,
      "id": "9083bcd1",
      "metadata": {
        "id": "9083bcd1",
        "outputId": "41430df0-2125-47e6-8891-010b1eb8acdd"
      },
      "outputs": [
        {
          "data": {
            "text/html": [
              "<div>\n",
              "<style scoped>\n",
              "    .dataframe tbody tr th:only-of-type {\n",
              "        vertical-align: middle;\n",
              "    }\n",
              "\n",
              "    .dataframe tbody tr th {\n",
              "        vertical-align: top;\n",
              "    }\n",
              "\n",
              "    .dataframe thead th {\n",
              "        text-align: right;\n",
              "    }\n",
              "</style>\n",
              "<table border=\"1\" class=\"dataframe\">\n",
              "  <thead>\n",
              "    <tr style=\"text-align: right;\">\n",
              "      <th></th>\n",
              "      <th>KNN</th>\n",
              "      <th>Regresion Logistc</th>\n",
              "      <th>Random Forest</th>\n",
              "    </tr>\n",
              "  </thead>\n",
              "  <tbody>\n",
              "    <tr>\n",
              "      <th>Precision</th>\n",
              "      <td>0.951466</td>\n",
              "      <td>0.712539</td>\n",
              "      <td>0.983860</td>\n",
              "    </tr>\n",
              "    <tr>\n",
              "      <th>Recall</th>\n",
              "      <td>0.921352</td>\n",
              "      <td>0.113743</td>\n",
              "      <td>0.963489</td>\n",
              "    </tr>\n",
              "  </tbody>\n",
              "</table>\n",
              "</div>"
            ],
            "text/plain": [
              "                KNN  Regresion Logistc  Random Forest\n",
              "Precision  0.951466           0.712539       0.983860\n",
              "Recall     0.921352           0.113743       0.963489"
            ]
          },
          "execution_count": 65,
          "metadata": {},
          "output_type": "execute_result"
        }
      ],
      "source": [
        "# Create a Dataframe with the Array of before step  \n",
        "#=============================================================================================================================\n",
        "\n",
        "df_score_models = pd.DataFrame(score,\n",
        "                               index=[\"Precision\",\"Recall\"],\n",
        "                               columns=[\"KNN\",\"Regresion Logistc\",\"Random Forest\"]\n",
        ")\n",
        "df_score_models"
      ]
    },
    {
      "cell_type": "code",
      "execution_count": null,
      "id": "79520954",
      "metadata": {
        "id": "79520954",
        "outputId": "d4ef978c-7729-4d62-9dfc-8ae1590ddf8b"
      },
      "outputs": [
        {
          "data": {
            "image/png": "[encoded data removed]",
            "text/plain": [
              "<Figure size 720x720 with 1 Axes>"
            ]
          },
          "metadata": {
            "needs_background": "light"
          },
          "output_type": "display_data"
        }
      ],
      "source": [
        "# Make a Barplot \n",
        "#=============================================================================================================================\n",
        "\n",
        "plt.figure(figsize=(10,10))\n",
        "sns.barplot(data=df_score_models)\n",
        "plt.show()"
      ]
    },
    {
      "cell_type": "markdown",
      "id": "9f801860",
      "metadata": {
        "id": "9f801860"
      },
      "source": [
        "**Conclusion:** To evaluate the models used, we have selected the Recall and Precision metrics. We discard Acurancy, because this metric only works when the labels to be predicted are balanced, which is not our case with our metrics.\n",
        "Although the precision metrics gave a higher score in the three evaluated models, in case of fraud analysis is relevant to avoid false negatives. For this reason, we selected the Metric Recall Score.\n",
        "The Random Forest  Model has the best score and the training time is optimal."
      ]
    }
  ],
  "metadata": {
    "kernelspec": {
      "display_name": "Python 3 (ipykernel)",
      "language": "python",
      "name": "python3"
    },
    "language_info": {
      "codemirror_mode": {
        "name": "ipython",
        "version": 3
      },
      "file_extension": ".py",
      "mimetype": "text/x-python",
      "name": "python",
      "nbconvert_exporter": "python",
      "pygments_lexer": "ipython3",
      "version": "3.9.7"
    },
    "colab": {
      "provenance": []
    }
  },
  "nbformat": 4,
  "nbformat_minor": 5
}