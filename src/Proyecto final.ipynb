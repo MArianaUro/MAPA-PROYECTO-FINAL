{
 "cells": [
  {
   "cell_type": "markdown",
   "id": "903e6e1e",
   "metadata": {},
   "source": [
    "**PROJECT:** \"Fraud prevention and detection\"\n",
    "\n",
    "**GROUP N°:** 8 - *MAPA, Connecting Ideas*\n",
    "\n",
    "**MEMBERS:** Mariana Uro - Pablo Tamayo\n",
    "\n",
    "**OBJECTIVE:** The project’s objetive is predict frauds over distance of financial transactions​.\n",
    "\n",
    "**DESCRIPTION OF THE VARIABLES:**\n",
    "\n",
    "    distance_from_home: the distance from home to where the transaction took place\n",
    "    distance_from_last_transaction: the distance from the last transaction \n",
    "    ratio_to_median_purchase_price: relationship between of the purchase Price and the average purchase price\n",
    "    repeat_retailer: the transaction from the retailer.\n",
    "    used_chip: is the transaction that was made using chip (credit card).\n",
    "    used_pin_number: is the transaction that was made using PIN number.\n",
    "    online_order: the transaction is an online order.\n",
    "    fraud: ¿Is the transaction a fraud?"
   ]
  },
  {
   "cell_type": "markdown",
   "id": "8d07106c",
   "metadata": {},
   "source": [
    " "
   ]
  },
  {
   "cell_type": "markdown",
   "id": "3add359d",
   "metadata": {},
   "source": [
    "## SETUP DEL PROYECTO"
   ]
  },
  {
   "cell_type": "markdown",
   "id": "d1b4bae3",
   "metadata": {},
   "source": [
    " "
   ]
  },
  {
   "cell_type": "markdown",
   "id": "aa9dbae5",
   "metadata": {},
   "source": [
    "**IMPORTACIÓN DE LIBRERÍAS**"
   ]
  },
  {
   "cell_type": "code",
   "execution_count": null,
   "id": "427794d6",
   "metadata": {},
   "outputs": [],
   "source": [
    "# Numeric, scientific and data science libreries\n",
    "#============================================================================================================\n",
    "import pandas as pd\n",
    "import numpy as np\n",
    "from statsmodels.stats.outliers_influence import variance_inflation_factor\n",
    "import sidetable\n",
    "from statistics import mean, stdev\n",
    "from scipy.stats import gmean\n",
    "\n",
    "#Visualization\n",
    "#============================================================================================================\n",
    "import matplotlib.pyplot as plt\n",
    "import seaborn as sns\n",
    "import missingno as msno\n",
    "\n",
    "# Sklearn imports\n",
    "#============================================================================================================\n",
    "\n",
    "# Data Preprocessing\n",
    "from sklearn import preprocessing\n",
    "from sklearn.preprocessing import quantile_transform\n",
    "from sklearn.preprocessing import Normalizer\n",
    "from sklearn.preprocessing import PowerTransformer\n",
    "\n",
    "# Data preparation for training\n",
    "from sklearn.model_selection import train_test_split\n",
    "from sklearn.model_selection import StratifiedKFold\n",
    "from sklearn.model_selection import KFold\n",
    "from sklearn.model_selection import learning_curve\n",
    "\n",
    "# Evaluation metrics and visualization\n",
    "from sklearn.metrics import recall_score\n",
    "from sklearn.metrics import confusion_matrix\n",
    "from sklearn.metrics import plot_confusion_matrix\n",
    "from sklearn.metrics import accuracy_score\n",
    "from sklearn.metrics import precision_score\n",
    "from sklearn.metrics import f1_score\n",
    "from sklearn.metrics import roc_curve, auc\n",
    "\n",
    "# Models from Sklearn and Boosting\n",
    "#----------------------------------------------------------------------------------------\n",
    "#Tree Model\n",
    "from sklearn.tree import DecisionTreeClassifier\n",
    "\n",
    "#Lineal model\n",
    "from sklearn.linear_model import LogisticRegression\n",
    "from sklearn.linear_model import RidgeClassifier\n",
    "\n",
    "#Neigbhbors model\n",
    "from sklearn.neighbors import KNeighborsClassifier\n",
    "from sklearn.neighbors import NearestCentroid \n",
    "\n",
    "#Ensemble model\n",
    "from sklearn. ensemble import StackingClassifier\n",
    "from sklearn. ensemble import RandomForestClassifier\n",
    " \n",
    "#Neural model\n",
    "import sklearn.neural_network\n",
    "\n",
    "#Boosting model\n",
    "from xgboost import XGBClassifier\n",
    "from catboost import CatBoostClassifier\n",
    "from lightgbm import LGBMClassifier\n",
    "#----------------------------------------------------------------------------------------\n",
    "\n",
    "#Feature Importance\n",
    "from sklearn.inspection import permutation_importance\n",
    "\n",
    "#Optimization\n",
    "#============================================================================================================\n",
    "import optuna\n",
    "\n",
    "#Time\n",
    "#============================================================================================================\n",
    "from time import time"
   ]
  },
  {
   "cell_type": "code",
   "execution_count": null,
   "id": "06df11c2",
   "metadata": {},
   "outputs": [],
   "source": [
    "# Import everything from the utils file\n",
    "#============================================================================================================\n",
    "from utils import *"
   ]
  },
  {
   "cell_type": "markdown",
   "id": "91d79bbd",
   "metadata": {},
   "source": [
    "  "
   ]
  },
  {
   "cell_type": "markdown",
   "id": "67be4c37",
   "metadata": {},
   "source": [
    "**IMPORTACIÓN Y ANÁLISIS DEL DATASET**"
   ]
  },
  {
   "cell_type": "code",
   "execution_count": null,
   "id": "80c3a133",
   "metadata": {},
   "outputs": [],
   "source": [
    "# Importamos el dataset\n",
    "#============================================================================================================\n",
    "\n",
    "df_fraude_creditcard = pd.read_csv(\"card_transdata.csv\")\n",
    "df_fraude_creditcard.head()"
   ]
  },
  {
   "cell_type": "markdown",
   "id": "ab8864a6",
   "metadata": {},
   "source": [
    " "
   ]
  },
  {
   "cell_type": "code",
   "execution_count": null,
   "id": "505ae593",
   "metadata": {},
   "outputs": [],
   "source": [
    "# Calculamos el tamaño del dataset\n",
    "#============================================================================================================\n",
    "\n",
    "df_fraude_creditcard.shape"
   ]
  },
  {
   "cell_type": "markdown",
   "id": "53af1202",
   "metadata": {},
   "source": [
    "\n",
    " "
   ]
  },
  {
   "cell_type": "code",
   "execution_count": null,
   "id": "60c2088a",
   "metadata": {},
   "outputs": [],
   "source": [
    "# Verificamos la existencia de datos \"Nan\" gráficamente.\n",
    "#============================================================================================================\n",
    "\n",
    "msno.matrix(df_fraude_creditcard)"
   ]
  },
  {
   "cell_type": "markdown",
   "id": "cd933af6",
   "metadata": {},
   "source": [
    " "
   ]
  },
  {
   "cell_type": "markdown",
   "id": "0670ce23",
   "metadata": {},
   "source": [
    " "
   ]
  },
  {
   "cell_type": "code",
   "execution_count": null,
   "id": "a0dccd02",
   "metadata": {},
   "outputs": [],
   "source": [
    "# Realizamos un análisis de las principales medidas estadísticas \n",
    "#============================================================================================================\n",
    "\n",
    "df_fraude_creditcard.describe().round(2)"
   ]
  },
  {
   "cell_type": "markdown",
   "id": "b5a8c4d2",
   "metadata": {},
   "source": [
    " "
   ]
  },
  {
   "cell_type": "markdown",
   "id": "b6f49189",
   "metadata": {},
   "source": [
    "# Análisis de correlación de las variables"
   ]
  },
  {
   "cell_type": "markdown",
   "id": "dbeeeae9",
   "metadata": {},
   "source": [
    " "
   ]
  },
  {
   "cell_type": "code",
   "execution_count": null,
   "id": "600afb53",
   "metadata": {},
   "outputs": [],
   "source": [
    "# Definimos un dataframe que muestra las correlaciones a través del método \"corr\"\n",
    "#============================================================================================================\n",
    "\n",
    "df_corr = df_fraude_creditcard.corr()\n",
    "df_corr"
   ]
  },
  {
   "cell_type": "code",
   "execution_count": null,
   "id": "89b8537e",
   "metadata": {},
   "outputs": [],
   "source": [
    "# Realizamos un heatmap utilizando seaborn.\n",
    "#=========================================================================================================================\n",
    "\n",
    "plt.figure(figsize=(20,15))\n",
    "cor = df_corr\n",
    "sns.heatmap(cor, annot=True, cmap=\"bwr_r\" , linewidths=.4)\n",
    "plt.show()\n"
   ]
  },
  {
   "cell_type": "markdown",
   "id": "0ed19ee6",
   "metadata": {},
   "source": [
    " "
   ]
  },
  {
   "cell_type": "code",
   "execution_count": null,
   "id": "0cf3c543",
   "metadata": {},
   "outputs": [],
   "source": [
    "# Analizamos el sesgo de las variables.\n",
    "#============================================================================================================\n",
    "\n",
    "df_fraude_creditcard.skew()"
   ]
  },
  {
   "cell_type": "markdown",
   "id": "744f01ea",
   "metadata": {},
   "source": [
    " "
   ]
  },
  {
   "cell_type": "markdown",
   "id": "2257b2e1",
   "metadata": {},
   "source": [
    "# MACHINE LEARNING"
   ]
  },
  {
   "cell_type": "markdown",
   "id": "6e011bc6",
   "metadata": {},
   "source": [
    "Se entrenaron distintos modelos de clasificación, tomando como referencia el modelo Logistic Regression:\n",
    "\n",
    "<ul>\n",
    "<li>MODELO LINEAL</li> \n",
    "  <ul>\n",
    "  <li>Logistic Regression\n",
    "  <li>Ridge Classifier\n",
    "  </ul>\n",
    "<li> MODELO TREE </li>\n",
    "  <ul>\n",
    "  <li> Decision Tree Classifier\n",
    "  </ul>\n",
    "<li> MODELO ENSEMBLE</li>\n",
    "  <ul>\n",
    "  <li>Random Forest Classifier\n",
    "  <li>XGBoost Classifier \n",
    "  <li>Cat Boost Classifier\n",
    "  <li>LightBoost Classifier\n",
    "  </ul>\n",
    "\n",
    "<li>MODELO NEIGHBORS</li>\n",
    "  <ul>\n",
    "  <li>KNeighbors Classifier\n",
    "  <li>Nearest Centroid\n",
    "  </ul>\n",
    "</ul>\n",
    "\n",
    "Para la ejecución de cada modelo, se ulizó el StratifiedKFold y luego se reliazó la Optimización Bayesiana. Además, para analizar la perfomance de cada modelo se aplicó la metrica Recall, ya que tuvo los mejores scores en comparación a la Presicion y F1.\n",
    " \n",
    "\n",
    "<li>\tFinalmente, en base a los resultados obtenidos, se seleccionó a los mejores modelos para construir un modelo ensamblado, utilizando stacking.\n",
    "</ol>"
   ]
  },
  {
   "cell_type": "code",
   "execution_count": null,
   "id": "71331b8a",
   "metadata": {},
   "outputs": [],
   "source": [
    "# Define the X features dataframe\n",
    "#=============================================================================================================================\n",
    "\n",
    "X = df_fraude_creditcard.iloc[:, :-1].copy(deep=True)\n",
    "X.head()"
   ]
  },
  {
   "cell_type": "code",
   "execution_count": null,
   "id": "4cf6cefc",
   "metadata": {},
   "outputs": [],
   "source": [
    "# Verify the symmetries\n",
    "#=============================================================================================================================\n",
    "\n",
    "X.skew()"
   ]
  },
  {
   "cell_type": "code",
   "execution_count": null,
   "id": "8d977bc6",
   "metadata": {},
   "outputs": [],
   "source": [
    "#Initialize the transformers\n",
    "#=============================================================================================================================\n",
    "\n",
    "nrm_transformer = Normalizer()\n",
    "pow_transformer = PowerTransformer()"
   ]
  },
  {
   "cell_type": "code",
   "execution_count": null,
   "id": "7a2e3249",
   "metadata": {},
   "outputs": [],
   "source": [
    "#Initialize the instances for the transformations: because of having the information to biased, we did 3 concatenated transformations.\n",
    "#=============================================================================================================================\n",
    "\n",
    "X = quantile_transform(X)\n",
    "X = nrm_transformer.fit_transform(X)\n",
    "X = pow_transformer.fit_transform(X)"
   ]
  },
  {
   "cell_type": "code",
   "execution_count": null,
   "id": "d0105275",
   "metadata": {},
   "outputs": [],
   "source": [
    "# Final X Dataframe\n",
    "#=============================================================================================================================\n",
    "\n",
    "X = pd.DataFrame(X)\n",
    "X.head(10)"
   ]
  },
  {
   "cell_type": "code",
   "execution_count": null,
   "id": "4cea3f72",
   "metadata": {},
   "outputs": [],
   "source": [
    "# Verify the symmetries again\n",
    "#=============================================================================================================================\n",
    "\n",
    "X.skew()"
   ]
  },
  {
   "cell_type": "code",
   "execution_count": null,
   "id": "54533d36",
   "metadata": {},
   "outputs": [],
   "source": [
    "# Define the target variable\n",
    "#=============================================================================================================================\n",
    "\n",
    "y = df_fraude_creditcard[\"fraud\"].copy(deep=True)\n",
    "y"
   ]
  },
  {
   "cell_type": "markdown",
   "id": "440d7e72",
   "metadata": {},
   "source": [
    " "
   ]
  },
  {
   "cell_type": "code",
   "execution_count": null,
   "id": "c2e3a0fc",
   "metadata": {},
   "outputs": [],
   "source": [
    "# Initialize the models\n",
    "#=============================================================================================================================\n",
    "\n",
    "clf = DecisionTreeClassifier()\n",
    "rfc = RandomForestClassifier()\n",
    "\n",
    "bst = XGBClassifier()\n",
    "ctb = CatBoostClassifier()\n",
    "lgh = LGBMClassifier()\n",
    "\n",
    "knn = KNeighborsClassifier()\n",
    "knc = NearestCentroid()\n",
    "\n",
    "\n",
    "lgr = LogisticRegression()\n",
    "rdc = RidgeClassifier()\n"
   ]
  },
  {
   "cell_type": "markdown",
   "id": "07685017",
   "metadata": {},
   "source": [
    " "
   ]
  },
  {
   "cell_type": "markdown",
   "id": "2ec2dbe1",
   "metadata": {},
   "source": [
    "### StratifiedKFold"
   ]
  },
  {
   "cell_type": "code",
   "execution_count": null,
   "id": "a7b3a2a5",
   "metadata": {},
   "outputs": [],
   "source": [
    "#Precarga de Datos para entrenamiento y modelado\n",
    "\n",
    "X = df_fraude_creditcard.iloc[:, :-1].copy(deep=True)\n",
    "nrm_transformer = Normalizer()\n",
    "pow_transformer = PowerTransformer()\n",
    "\n",
    "X = quantile_transform(X)\n",
    "X = nrm_transformer.fit_transform(X)\n",
    "X = pow_transformer.fit_transform(X)\n",
    "y = df_fraude_creditcard[\"fraud\"].copy(deep=True)"
   ]
  },
  {
   "cell_type": "code",
   "execution_count": null,
   "id": "b47fd684",
   "metadata": {},
   "outputs": [],
   "source": [
    "#Ejecucion de Stratified\n",
    "\n",
    "skf = StratifiedKFold(n_splits=5,random_state=0, shuffle=True)\n",
    "skf.get_n_splits(X, y)"
   ]
  },
  {
   "cell_type": "code",
   "execution_count": null,
   "id": "2bcf4ff9",
   "metadata": {},
   "outputs": [],
   "source": [
    "print(skf)\n"
   ]
  },
  {
   "cell_type": "code",
   "execution_count": null,
   "id": "76623d67",
   "metadata": {},
   "outputs": [],
   "source": [
    "#Aplicacion Basica del Modelo\n",
    "\n",
    "for train_index, test_index in skf.split(X, y):\n",
    "    print(\"TRAIN:\", train_index, \"TEST:\", test_index)\n",
    "    X_train, X_test = X[train_index], X[test_index]\n",
    "    y_train, y_test = y[train_index], y[test_index]    "
   ]
  },
  {
   "cell_type": "code",
   "execution_count": null,
   "id": "c8b8d6e1",
   "metadata": {},
   "outputs": [],
   "source": [
    "#Aplicacion de la validacion para uno de los tres modelos\n",
    "\n",
    "# Feature Scaling for input features.\n",
    "scaler = preprocessing.MinMaxScaler()\n",
    "x_scaled = scaler.fit_transform(X)"
   ]
  },
  {
   "cell_type": "markdown",
   "id": "de75e7ed",
   "metadata": {},
   "source": [
    "# Decision Tree Classifier"
   ]
  },
  {
   "cell_type": "code",
   "execution_count": null,
   "id": "88e3ac21",
   "metadata": {},
   "outputs": [],
   "source": [
    "lst_metric_stratified_clf  = []\n",
    "\n",
    "for train_index, test_index in skf.split(X, y):\n",
    "    x_train_fold, x_test_fold = x_scaled[train_index], x_scaled[test_index]\n",
    "    y_train_fold, y_test_fold = y[train_index], y[test_index]\n",
    "    clf.fit(x_train_fold, y_train_fold)\n",
    "    lst_metric_stratified_clf.append(recall_score(y_test, clf.predict(X_test)))\n",
    "\n",
    "lst_metric_stratified_clf"
   ]
  },
  {
   "cell_type": "markdown",
   "id": "8a19660e",
   "metadata": {},
   "source": [
    "# Random Forest"
   ]
  },
  {
   "cell_type": "code",
   "execution_count": null,
   "id": "38b54eed",
   "metadata": {},
   "outputs": [],
   "source": [
    "lst_metric_stratified_rfc  = []\n",
    "\n",
    "for train_index, test_index in skf.split(X, y):\n",
    "    x_train_fold, x_test_fold = x_scaled[train_index], x_scaled[test_index]\n",
    "    y_train_fold, y_test_fold = y[train_index], y[test_index]\n",
    "    rfc.fit(x_train_fold, y_train_fold)\n",
    "    lst_metric_stratified_rfc.append(recall_score(y_test, rfc.predict(X_test)))\n",
    "\n",
    "lst_metric_stratified_rfc"
   ]
  },
  {
   "cell_type": "markdown",
   "id": "527c9b26",
   "metadata": {},
   "source": [
    "# XGBOOST"
   ]
  },
  {
   "cell_type": "code",
   "execution_count": null,
   "id": "cd18a2fd",
   "metadata": {},
   "outputs": [],
   "source": [
    "lst_metric_stratified_bst  = []\n",
    "\n",
    "for train_index, test_index in skf.split(X, y):\n",
    "    x_train_fold, x_test_fold = x_scaled[train_index], x_scaled[test_index]\n",
    "    y_train_fold, y_test_fold = y[train_index], y[test_index]\n",
    "    bst.fit(x_train_fold, y_train_fold)\n",
    "    lst_metric_stratified_bst.append(recall_score(y_test, bst.predict(X_test)))\n",
    "\n",
    "lst_metric_stratified_bst\n"
   ]
  },
  {
   "cell_type": "markdown",
   "id": "0c9ee3bd",
   "metadata": {},
   "source": [
    "# CatBoost"
   ]
  },
  {
   "cell_type": "code",
   "execution_count": null,
   "id": "d377c108",
   "metadata": {},
   "outputs": [],
   "source": [
    "lst_metric_stratified_ctb  = []\n",
    "\n",
    "for train_index, test_index in skf.split(X, y):\n",
    "    x_train_fold, x_test_fold = x_scaled[train_index], x_scaled[test_index]\n",
    "    y_train_fold, y_test_fold = y[train_index], y[test_index]\n",
    "    ctb.fit(x_train_fold, y_train_fold)\n",
    "    lst_metric_stratified_ctb.append(recall_score(y_test, ctb.predict(X_test)))\n",
    "\n",
    "lst_metric_stratified_ctb"
   ]
  },
  {
   "cell_type": "markdown",
   "id": "70886dca",
   "metadata": {},
   "source": [
    "# Lightboots"
   ]
  },
  {
   "cell_type": "code",
   "execution_count": null,
   "id": "e05ca0f8",
   "metadata": {},
   "outputs": [],
   "source": [
    "lst_metric_stratified_lgh = []\n",
    "\n",
    "for train_index, test_index in skf.split(X, y):\n",
    "    x_train_fold, x_test_fold = x_scaled[train_index], x_scaled[test_index]\n",
    "    y_train_fold, y_test_fold = y[train_index], y[test_index]\n",
    "    lgh.fit(x_train_fold, y_train_fold)\n",
    "    lst_metric_stratified_lgh.append(recall_score(y_test, lgh.predict(X_test)))\n",
    "\n",
    "lst_metric_stratified_lgh"
   ]
  },
  {
   "cell_type": "markdown",
   "id": "a4881daf",
   "metadata": {},
   "source": [
    " # Nearest Neighbors Classification (KNN)"
   ]
  },
  {
   "cell_type": "code",
   "execution_count": null,
   "id": "b86db900",
   "metadata": {},
   "outputs": [],
   "source": [
    "lst_metric_stratified_knn  = []\n",
    "\n",
    "for train_index, test_index in skf.split(X, y):\n",
    "    x_train_fold, x_test_fold = x_scaled[train_index], x_scaled[test_index]\n",
    "    y_train_fold, y_test_fold = y[train_index], y[test_index]\n",
    "    knn.fit(x_train_fold, y_train_fold)\n",
    "    lst_metric_stratified_knn.append(recall_score(y_test, knn.predict(X_test)))\n",
    "\n",
    "lst_metric_stratified_knn"
   ]
  },
  {
   "cell_type": "markdown",
   "id": "49cc6238",
   "metadata": {},
   "source": [
    "# Nearest Centroid Classifier (KNC)"
   ]
  },
  {
   "cell_type": "code",
   "execution_count": null,
   "id": "1115e709",
   "metadata": {},
   "outputs": [],
   "source": [
    "lst_metric_stratified_knc  = []\n",
    "\n",
    "for train_index, test_index in skf.split(X, y):\n",
    "    x_train_fold, x_test_fold = x_scaled[train_index], x_scaled[test_index]\n",
    "    y_train_fold, y_test_fold = y[train_index], y[test_index]\n",
    "    knc.fit(x_train_fold, y_train_fold)\n",
    "    lst_metric_stratified_knc.append(recall_score(y_test, knc.predict(X_test)))\n",
    "\n",
    "lst_metric_stratified_knc"
   ]
  },
  {
   "cell_type": "markdown",
   "id": "af278a58",
   "metadata": {},
   "source": [
    "# Logistic regression"
   ]
  },
  {
   "cell_type": "code",
   "execution_count": null,
   "id": "1f6fc1aa",
   "metadata": {},
   "outputs": [],
   "source": [
    "lst_metric_stratified_lgr  = []\n",
    "\n",
    "for train_index, test_index in skf.split(X, y):\n",
    "    x_train_fold, x_test_fold = x_scaled[train_index], x_scaled[test_index]\n",
    "    y_train_fold, y_test_fold = y[train_index], y[test_index]\n",
    "    lgr.fit(x_train_fold, y_train_fold)\n",
    "    lst_metric_stratified_lgr.append(recall_score(y_test, lgr.predict(X_test)))\n",
    "\n",
    "lst_metric_stratified_lgr"
   ]
  },
  {
   "cell_type": "markdown",
   "id": "40aa0a63",
   "metadata": {},
   "source": [
    "# Ridge Classifier (rdc)"
   ]
  },
  {
   "cell_type": "code",
   "execution_count": null,
   "id": "87ca9280",
   "metadata": {},
   "outputs": [],
   "source": [
    "lst_metric_stratified_rdc = []\n",
    "\n",
    "for train_index, test_index in skf.split(X, y):\n",
    "    x_train_fold, x_test_fold = x_scaled[train_index], x_scaled[test_index]\n",
    "    y_train_fold, y_test_fold = y[train_index], y[test_index]\n",
    "    rdc.fit(x_train_fold, y_train_fold)\n",
    "    lst_metric_stratified_rdc.append(recall_score(y_test, rdc.predict(X_test)))\n",
    "\n",
    "lst_metric_stratified_rdc"
   ]
  },
  {
   "cell_type": "markdown",
   "id": "086176a8",
   "metadata": {},
   "source": [
    "# Analisis de Resultados"
   ]
  },
  {
   "cell_type": "markdown",
   "id": "8bb62886",
   "metadata": {},
   "source": [
    "**List with name model**"
   ]
  },
  {
   "cell_type": "code",
   "execution_count": null,
   "id": "7a1489a7",
   "metadata": {},
   "outputs": [],
   "source": [
    "name_model= [\"Logistic regression\", \"Ridge classifier\",\"Decision Tree Classifier\",\"Random Forest\",\"XGBoost\",\"CatBoost\",\"LightBoost\",\"KNN\",\"KNC\"]\n",
    "name_model"
   ]
  },
  {
   "cell_type": "markdown",
   "id": "b3399b3e",
   "metadata": {},
   "source": [
    "**Dataframe with metric list**"
   ]
  },
  {
   "cell_type": "code",
   "execution_count": null,
   "id": "d40f6b5f",
   "metadata": {},
   "outputs": [],
   "source": [
    "df_score = pd.DataFrame(list(zip(\n",
    "                                lst_metric_stratified_lgr,\n",
    "                                lst_metric_stratified_rdc,\n",
    "                                lst_metric_stratified_clf,\n",
    "                                lst_metric_stratified_rfc,                            \n",
    "                                lst_metric_stratified_bst,\n",
    "                                lst_metric_stratified_ctb,\n",
    "                                lst_metric_stratified_lgh,\n",
    "                                lst_metric_stratified_knn,\n",
    "                                lst_metric_stratified_knc,\n",
    "                                )),\n",
    "                        \n",
    "                        columns= name_model\n",
    "                       )\n",
    "df_score"
   ]
  },
  {
   "cell_type": "code",
   "execution_count": null,
   "id": "d74bd8e0",
   "metadata": {},
   "outputs": [],
   "source": [
    "df_score.describe()"
   ]
  },
  {
   "cell_type": "markdown",
   "id": "8758e16d",
   "metadata": {},
   "source": [
    "**Values maximo for model**"
   ]
  },
  {
   "cell_type": "code",
   "execution_count": null,
   "id": "8486d180",
   "metadata": {},
   "outputs": [],
   "source": [
    "value_max = df_score.max()\n",
    "print(value_max.sort_values(ascending=False))"
   ]
  },
  {
   "cell_type": "markdown",
   "id": "37a12b12",
   "metadata": {},
   "source": [
    "**Boxplot with model**"
   ]
  },
  {
   "cell_type": "code",
   "execution_count": null,
   "id": "d8df10fb",
   "metadata": {},
   "outputs": [],
   "source": [
    "# Conventir en array el df\n",
    "\n",
    "array_df_score = df_score.to_numpy()\n",
    "array_df_score"
   ]
  },
  {
   "cell_type": "code",
   "execution_count": null,
   "id": "38f88247",
   "metadata": {},
   "outputs": [],
   "source": [
    "# Conventir en array the reference model \n",
    "\n",
    "array_df_score_lgr = df_score['Logistic regression'].to_numpy()\n",
    "array_df_score_lgr"
   ]
  },
  {
   "cell_type": "code",
   "execution_count": null,
   "id": "de3465a6",
   "metadata": {},
   "outputs": [],
   "source": [
    "plt.figure(figsize=(20,12))\n",
    "plt.title('Recall Results with Stratified-K-folds', fontsize=30)\n",
    "plt.boxplot(df_score, labels=name_model)\n",
    "\n",
    "plt.xticks(fontsize=25, rotation=90)\n",
    "plt.yticks(fontsize=15)\n",
    "\n",
    "plt.axhline(y=np.mean(array_df_score[0]), label='Mean all model', color=\"blue\", ls='--', lw=3)\n",
    "plt.axhline(y=np.mean(array_df_score_lgr[0]), label='Mean reference model', color=\"green\", ls='--', lw=3)\n",
    "plt.legend(loc='upper left', fontsize=12)\n",
    "plt.grid(axis='y')\n",
    "plt.show()"
   ]
  },
  {
   "cell_type": "markdown",
   "id": "49d51842",
   "metadata": {},
   "source": [
    "**Conslusion:** Al observar Recall Results with Stratified-K-folds, calculamos la media de nuestra modelo de referencia (Logistic Regression), y se puede ver que, salvo el Ridge Classifier model, todos los otros modelos tienen mejor score. Es por ello, que decidimos calcular la media de todos los resultados de los modelos seleccionados. Con estos dos análisis, seleccionamos un modelo por cada familia de modelo:\n",
    "    \n",
    "    1. Logistic Regression\n",
    "    2. XGBoost\n",
    "    3. Decision Tree Classifier\n",
    "    4. KNC\n",
    "    \n",
    "En el siguiente paso, se analizará los tiempos de estos modelos, a traves del Learning Curve."
   ]
  },
  {
   "cell_type": "code",
   "execution_count": null,
   "id": "dffc0200",
   "metadata": {},
   "outputs": [],
   "source": [
    "plot_learning_curve(bst, \"Test\", X, y, train_sizes=np.linspace(0.2, 1.0, 5), scoring='recall', cv=skf, ylim=(0.6, 1))\n",
    "plt.show()"
   ]
  },
  {
   "cell_type": "code",
   "execution_count": null,
   "id": "3606585f",
   "metadata": {},
   "outputs": [],
   "source": [
    "plot_learning_curve(clf, \"Test\", X, y, train_sizes=np.linspace(0.2, 1.0, 5), scoring='recall', cv=skf, ylim=(0.6, 1))\n",
    "plt.show()"
   ]
  },
  {
   "cell_type": "code",
   "execution_count": null,
   "id": "82d88db3",
   "metadata": {
    "scrolled": true
   },
   "outputs": [],
   "source": [
    "plot_learning_curve(lgr, \"Test\", X, y, train_sizes=np.linspace(0.2, 1.0, 5), scoring='recall', cv=skf, ylim=(0.4, 1))\n",
    "plt.show()"
   ]
  },
  {
   "cell_type": "markdown",
   "id": "37a587e6",
   "metadata": {},
   "source": [
    "**Conclusion:** Se puede observar que, el KNC model resulto ser el más económico en termino de tiempo de ejecución y con los mejores resultados de los modelos seleccionados, mientras que el XGBoost fue el más caro con el segundo mejor resultado. El reference model, resultó económico pero con los resultados más bajos.  "
   ]
  },
  {
   "cell_type": "markdown",
   "id": "47570765",
   "metadata": {},
   "source": [
    "# OPTIMIZATION BAYESIANA"
   ]
  },
  {
   "cell_type": "markdown",
   "id": "2e7f184f",
   "metadata": {},
   "source": [
    "# Optimization Logistic Regression Model"
   ]
  },
  {
   "cell_type": "code",
   "execution_count": null,
   "id": "9b49241d",
   "metadata": {},
   "outputs": [],
   "source": [
    "# Objective function for the Logistic Regression\n",
    "# ==============================================================================\n",
    "\n",
    "def objective_lgr(trial):\n",
    "    # hyperparameter setting \n",
    "    param= {\n",
    "            'penalty' : trial.suggest_categorical('penalty', ['l1', 'l2', 'elasticnet', 'none']),\n",
    "            'C': trial.suggest_float('C', 0.0, 1.0),\n",
    "            'l1_ratio' : trial.suggest_float('l1_ratio', 0.0, 1.0),\n",
    "        }\n",
    "    \n",
    "    # model training and evaluation\n",
    "    lgr = LogisticRegression(**param, solver='saga')\n",
    "    skf = StratifiedKFold(n_splits=5, shuffle=True, random_state=0)\n",
    "    skf_result_lgr = []\n",
    "    \n",
    "    for train_index, test_index in skf.split(X, y):\n",
    "        x_train_fold, x_test_fold = x_scaled[train_index], x_scaled[test_index]\n",
    "        y_train_fold, y_test_fold = y[train_index], y[test_index]\n",
    "        lgr.fit(x_train_fold, y_train_fold)\n",
    "        skf_result_lgr.append(recall_score(y_test, lgr.predict(X_test)))\n",
    "        \n",
    "    # output: evaluation score\n",
    "    return gmean(skf_result_lgr)"
   ]
  },
  {
   "cell_type": "code",
   "execution_count": null,
   "id": "a4d00843",
   "metadata": {
    "scrolled": false
   },
   "outputs": [],
   "source": [
    "# Define the objective function\n",
    "# ==============================================================================\n",
    "study_lgr = optuna.create_study(direction='maximize')\n",
    "study_lgr.optimize(objective_lgr, n_trials=50)"
   ]
  },
  {
   "cell_type": "code",
   "execution_count": null,
   "id": "7c9c9b37",
   "metadata": {},
   "outputs": [],
   "source": [
    "# Metrics of the optimization\n",
    "# ==============================================================================\n",
    "print('Best Value: {}'.format(study_lgr.best_value))\n",
    "print('Best Parameters: {}'.format(study_lgr.best_params))"
   ]
  },
  {
   "cell_type": "code",
   "execution_count": null,
   "id": "43186f01",
   "metadata": {},
   "outputs": [],
   "source": [
    "# Optimization History\n",
    "# ==============================================================================\n",
    "optuna.visualization.plot_optimization_history(study_lgr)"
   ]
  },
  {
   "cell_type": "code",
   "execution_count": null,
   "id": "c0901140",
   "metadata": {},
   "outputs": [],
   "source": [
    "# Parameter Importance\n",
    "# ==============================================================================\n",
    "optuna.visualization.plot_param_importances(study_lgr)"
   ]
  },
  {
   "cell_type": "code",
   "execution_count": null,
   "id": "e2336400",
   "metadata": {},
   "outputs": [],
   "source": [
    "# Relationship between the hyper-parameters\n",
    "# ==============================================================================\n",
    "optuna.visualization.plot_parallel_coordinate(study_lgr)"
   ]
  },
  {
   "cell_type": "code",
   "execution_count": null,
   "id": "cdec856a",
   "metadata": {},
   "outputs": [],
   "source": [
    "# Optimization values for each parameter\n",
    "# ==============================================================================\n",
    "optuna.visualization.plot_slice(study_lgr)"
   ]
  },
  {
   "cell_type": "markdown",
   "id": "6dc96085",
   "metadata": {},
   "source": [
    "# Optimization KNC model"
   ]
  },
  {
   "cell_type": "code",
   "execution_count": null,
   "id": "ed2e3454",
   "metadata": {},
   "outputs": [],
   "source": [
    "# Objective function for the KNC Model\n",
    "# ==============================================================================\n",
    "\n",
    "def objective_knc(trial):\n",
    "    # hyperparameter setting \n",
    "    metric_trial = trial.suggest_categorical(\"metric\", ['euclidean','manhattan','minkowski'])\n",
    "    shrink_threshold_trial = trial.suggest_float('shrink_threshold', 0.0, 1.0)\n",
    "    \n",
    "    # model training and evaluation\n",
    "    knc = NearestCentroid(metric=metric_trial, shrink_threshold=shrink_threshold_trial)\n",
    "    skf = StratifiedKFold(n_splits=5, shuffle=True, random_state=0)\n",
    "    skf_result_knc = []\n",
    "    \n",
    "    for train_index, test_index in skf.split(X, y):\n",
    "        x_train_fold, x_test_fold = x_scaled[train_index], x_scaled[test_index]\n",
    "        y_train_fold, y_test_fold = y[train_index], y[test_index]\n",
    "        knc.fit(x_train_fold, y_train_fold)\n",
    "        skf_result_knc.append(recall_score(y_test, knc.predict(X_test)))\n",
    "        \n",
    "    # output: evaluation score\n",
    "    return gmean(skf_result_knc)"
   ]
  },
  {
   "cell_type": "code",
   "execution_count": null,
   "id": "45bc08a3",
   "metadata": {},
   "outputs": [],
   "source": [
    "# Define the objective function\n",
    "# ==============================================================================\n",
    "study_knc = optuna.create_study(direction='maximize')\n",
    "study_knc.optimize(objective_knc, n_trials=30)"
   ]
  },
  {
   "cell_type": "code",
   "execution_count": null,
   "id": "b2c54b68",
   "metadata": {},
   "outputs": [],
   "source": [
    "# Metrics of the optimization\n",
    "# ==============================================================================\n",
    "print('Best Value: {}'.format(study_knc.best_value))\n",
    "print('Best Parameters: {}'.format(study_knc.best_params))"
   ]
  },
  {
   "cell_type": "code",
   "execution_count": null,
   "id": "694edc06",
   "metadata": {},
   "outputs": [],
   "source": [
    "# Optimization History\n",
    "# ==============================================================================\n",
    "optuna.visualization.plot_optimization_history(study_knc)"
   ]
  },
  {
   "cell_type": "code",
   "execution_count": null,
   "id": "3bc1840a",
   "metadata": {},
   "outputs": [],
   "source": [
    "# Parameter Importance\n",
    "# ==============================================================================\n",
    "optuna.visualization.plot_param_importances(study_knc)"
   ]
  },
  {
   "cell_type": "code",
   "execution_count": null,
   "id": "201467bf",
   "metadata": {},
   "outputs": [],
   "source": [
    "# Relationship between the hyper-parameters\n",
    "# ==============================================================================\n",
    "optuna.visualization.plot_parallel_coordinate(study_knc)"
   ]
  },
  {
   "cell_type": "code",
   "execution_count": null,
   "id": "dccfc747",
   "metadata": {},
   "outputs": [],
   "source": [
    "# Optimization values for each parameter\n",
    "# ==============================================================================\n",
    "optuna.visualization.plot_slice(study_knc)"
   ]
  },
  {
   "cell_type": "markdown",
   "id": "687a3f6d",
   "metadata": {},
   "source": [
    "# Optimization Decision Tree Classifier"
   ]
  },
  {
   "cell_type": "code",
   "execution_count": null,
   "id": "5ed3feba",
   "metadata": {},
   "outputs": [],
   "source": [
    "# Objective function for the Decision Tree Classifier Model\n",
    "# ==============================================================================\n",
    "\n",
    "def objective_clf(trial):\n",
    "    # hyperparameter setting \n",
    "    param= {\n",
    "            'max_features' : trial.suggest_int('max_features', 1, 7, 1),\n",
    "            'max_depth': trial.suggest_int('max_depth', 1, 128),\n",
    "            'min_samples_split' : trial.suggest_int('min_samples_split', 2, 11, 1),\n",
    "        }\n",
    "    \n",
    "    # model training and evaluation\n",
    "    clf = DecisionTreeClassifier(**param)\n",
    "    skf = StratifiedKFold(n_splits=5, shuffle=True, random_state=0)\n",
    "    skf_result_clf = []\n",
    "    \n",
    "    for train_index, test_index in skf.split(X, y):\n",
    "        x_train_fold, x_test_fold = x_scaled[train_index], x_scaled[test_index]\n",
    "        y_train_fold, y_test_fold = y[train_index], y[test_index]\n",
    "        clf.fit(x_train_fold, y_train_fold)\n",
    "        skf_result_clf.append(recall_score(y_test, clf.predict(X_test)))\n",
    "        \n",
    "    # output: evaluation score\n",
    "    return gmean(skf_result_clf)"
   ]
  },
  {
   "cell_type": "code",
   "execution_count": null,
   "id": "4a5f0ae0",
   "metadata": {},
   "outputs": [],
   "source": [
    "# Define the objective function\n",
    "# ==============================================================================\n",
    "study_clf = optuna.create_study(direction='maximize')\n",
    "study_clf.optimize(objective_clf, n_trials=50)"
   ]
  },
  {
   "cell_type": "code",
   "execution_count": null,
   "id": "46b21954",
   "metadata": {},
   "outputs": [],
   "source": [
    "# Metrics of the optimization\n",
    "# ==============================================================================\n",
    "print('Best Value: {}'.format(study_clf.best_value))\n",
    "print('Best Parameters: {}'.format(study_clf.best_params))"
   ]
  },
  {
   "cell_type": "code",
   "execution_count": null,
   "id": "50457079",
   "metadata": {},
   "outputs": [],
   "source": [
    "# Optimization History\n",
    "# ==============================================================================\n",
    "optuna.visualization.plot_optimization_history(study_clf)"
   ]
  },
  {
   "cell_type": "code",
   "execution_count": null,
   "id": "9524e5f1",
   "metadata": {},
   "outputs": [],
   "source": [
    "# Parameter Importance\n",
    "# ==============================================================================\n",
    "optuna.visualization.plot_param_importances(study_clf)"
   ]
  },
  {
   "cell_type": "code",
   "execution_count": null,
   "id": "89b755e2",
   "metadata": {},
   "outputs": [],
   "source": [
    "# Relationship between the hyper-parameters\n",
    "# ==============================================================================\n",
    "optuna.visualization.plot_parallel_coordinate(study_clf)"
   ]
  },
  {
   "cell_type": "code",
   "execution_count": null,
   "id": "dcc1528e",
   "metadata": {},
   "outputs": [],
   "source": [
    "# Optimization values for each parameter\n",
    "# ==============================================================================\n",
    "optuna.visualization.plot_slice(study_clf)"
   ]
  },
  {
   "cell_type": "markdown",
   "id": "03f34689",
   "metadata": {},
   "source": [
    "# Optimization XGBoost Model"
   ]
  },
  {
   "cell_type": "code",
   "execution_count": null,
   "id": "4e45d0e6",
   "metadata": {},
   "outputs": [],
   "source": [
    "# Objective function for the XGBoost Model\n",
    "# ==============================================================================\n",
    "\n",
    "def objective_bst(trial):\n",
    "    # hyperparameter setting \n",
    "    param= {\n",
    "            'n_estimators' : trial.suggest_int('n_estimators', 300, 1000),\n",
    "            'max_depth': trial.suggest_categorical('max_depth', [7,9,11,13,15,17,19,21]),\n",
    "            'max_features': trial.suggest_int('max_features', 1, 7, 1)\n",
    "    }\n",
    "    \n",
    "    # model training and evaluation\n",
    "    bst = XGBClassifier(**param)\n",
    "    skf = StratifiedKFold(n_splits=5, shuffle=True, random_state=0)\n",
    "    skf_result_bst = []\n",
    "    \n",
    "    for train_index, test_index in skf.split(X, y):\n",
    "        x_train_fold, x_test_fold = x_scaled[train_index], x_scaled[test_index]\n",
    "        y_train_fold, y_test_fold = y[train_index], y[test_index]\n",
    "        bst.fit(x_train_fold, y_train_fold)\n",
    "        skf_result_bst.append(recall_score(y_test, bst.predict(X_test)))\n",
    "        \n",
    "    # output: evaluation score\n",
    "    return gmean(skf_result_bst)"
   ]
  },
  {
   "cell_type": "code",
   "execution_count": null,
   "id": "7f866bc2",
   "metadata": {
    "scrolled": false
   },
   "outputs": [],
   "source": [
    "# Define the objective function\n",
    "# ==============================================================================\n",
    "study_bst = optuna.create_study(direction='maximize')\n",
    "study_bst.optimize(objective_bst, n_trials=30)"
   ]
  },
  {
   "cell_type": "code",
   "execution_count": null,
   "id": "94ca19bc",
   "metadata": {},
   "outputs": [],
   "source": [
    "# Metrics of the optimization\n",
    "# ==============================================================================\n",
    "print('Best Value: {}'.format(study_bst.best_value))\n",
    "print('Best Parameters: {}'.format(study_bst.best_params))"
   ]
  },
  {
   "cell_type": "code",
   "execution_count": null,
   "id": "a54d1b08",
   "metadata": {},
   "outputs": [],
   "source": [
    "# Optimization History\n",
    "# ==============================================================================\n",
    "optuna.visualization.plot_optimization_history(study_bst)"
   ]
  },
  {
   "cell_type": "code",
   "execution_count": null,
   "id": "8046ef56",
   "metadata": {},
   "outputs": [],
   "source": [
    "# Parameter Importance\n",
    "# ==============================================================================\n",
    "optuna.visualization.plot_param_importances(study_bst)"
   ]
  },
  {
   "cell_type": "code",
   "execution_count": null,
   "id": "9b582cc9",
   "metadata": {},
   "outputs": [],
   "source": [
    "# Relationship between the hyper-parameters\n",
    "# ==============================================================================\n",
    "optuna.visualization.plot_parallel_coordinate(study_clf)"
   ]
  },
  {
   "cell_type": "code",
   "execution_count": null,
   "id": "6ccce830",
   "metadata": {},
   "outputs": [],
   "source": [
    "# Optimization values for each parameter\n",
    "# ==============================================================================\n",
    "optuna.visualization.plot_slice(study_clf)"
   ]
  },
  {
   "cell_type": "markdown",
   "id": "f51670b0",
   "metadata": {},
   "source": [
    " # Summary of All Runs"
   ]
  },
  {
   "cell_type": "code",
   "execution_count": null,
   "id": "faec02c1",
   "metadata": {},
   "outputs": [],
   "source": [
    "# Simple scores vs Optimized scores\n",
    "# ==============================================================================\n",
    "\n",
    "print('Reference Linear Regression Score: {}'.format(ref_score_lgr))\n",
    "print('KNC Score: {} | Optimized KNC Score: {}'.format(score_knc, format(study_knc.best_value)))\n",
    "print('Decision Tree Classifier Score: {} | Optimized Decision Tree Classifier Score: {}'.format(score_clf, format(study_clf.best_value)))\n",
    "print('XGBoost Score: {} | Optimized XGBoost Score: {}'.format(score_bst, format(study_bst.best_value)))"
   ]
  },
  {
   "cell_type": "markdown",
   "id": "7dade8dc",
   "metadata": {},
   "source": [
    "# Ensembel model"
   ]
  },
  {
   "cell_type": "code",
   "execution_count": null,
   "id": "854955e8",
   "metadata": {},
   "outputs": [],
   "source": [
    "# Define de models to combine\n",
    "# ==============================================================================\n",
    "\n",
    "clf = DecisionTreeClassifier(**study_clf.best_params)\n",
    "bst = XGBClassifier(**study_bst.best_params)\n",
    "knc = NearestCentroid(**study_knc.best_params)"
   ]
  },
  {
   "cell_type": "code",
   "execution_count": null,
   "id": "ef867cf1",
   "metadata": {},
   "outputs": [],
   "source": [
    "# Define the meta learner\n",
    "# The Logistic Regressionmodel as been choosen for being a standar in classification problems\n",
    "# ==============================================================================\n",
    "\n",
    "lgr = LogisticRegression()"
   ]
  },
  {
   "cell_type": "code",
   "execution_count": null,
   "id": "65d6bbe9",
   "metadata": {},
   "outputs": [],
   "source": [
    "# Store the models to combine\n",
    "# ==============================================================================\n",
    "\n",
    "estimators = [(\"Decision Tree Classifier\", clf),(\"XGBoost\", bst), (\"KNC\", knc)]"
   ]
  },
  {
   "cell_type": "code",
   "execution_count": null,
   "id": "b91ed867",
   "metadata": {},
   "outputs": [],
   "source": [
    "# Define the ensemble model\n",
    "# ==============================================================================\n",
    "\n",
    "ensemble = StackingClassifier(estimators=estimators, final_estimator = lgr)\n",
    "\n",
    "skf = StratifiedKFold(n_splits=10, shuffle=True, random_state=0)\n",
    "y_test                = []\n",
    "predictions           = []\n",
    "skf_result_ensembelmodel = []\n",
    "counter = 0\n",
    "\n",
    "for train_index, test_index in skf.split(X, y):\n",
    "        x_train_fold, x_test_fold = x_scaled[train_index], x_scaled[test_index]\n",
    "        y_train_fold, y_test_fold = y[train_index], y[test_index]\n",
    "        ensemble.fit(x_train_fold, y_train_fold)\n",
    "        predictions.append(ensemble.predict(x_test_fold))\n",
    "        y_test.append(y_test_fold)\n",
    "        skf_result_ensembelmodel.append(recall_score(predictions[counter], y_test[counter]))\n",
    "        counter +=1"
   ]
  },
  {
   "cell_type": "code",
   "execution_count": null,
   "id": "f11f8119",
   "metadata": {},
   "outputs": [],
   "source": [
    "# Evalue the final model \n",
    "# ==============================================================================\n",
    "\n",
    "recall_ensemble = gmean(skf_result_supermodel)\n",
    "print ('Recall Score: %.3f' % recall_ensemble)"
   ]
  },
  {
   "cell_type": "markdown",
   "id": "fed141d2",
   "metadata": {},
   "source": [
    "# Evaluate"
   ]
  },
  {
   "cell_type": "code",
   "execution_count": null,
   "id": "cd677b0a",
   "metadata": {},
   "outputs": [],
   "source": [
    "# Confusion Matriz for general reference\n",
    "# ==============================================================================\n",
    "\n",
    "cf_matrix = confusion_matrix(y_test[0], predictions [0])"
   ]
  },
  {
   "cell_type": "code",
   "execution_count": null,
   "id": "e7543a8e",
   "metadata": {},
   "outputs": [],
   "source": [
    "# Preparate the visualization of the matrix\n",
    "# ==============================================================================\n",
    "\n",
    "group_names = ['True Neg', 'False Pos', 'False neg', 'True Pos']\n",
    "\n",
    "group_counts = [\"{0:0.0f}\".format(value) for value in \n",
    "               cf_matrix.flatten()]"
   ]
  },
  {
   "cell_type": "code",
   "execution_count": null,
   "id": "ef8f3633",
   "metadata": {},
   "outputs": [],
   "source": [
    "# Improve the visualization of the confusion matrix\n",
    "# ==============================================================================\n",
    "\n",
    "group_percentages = [\"{0:.2%}\".format(value) for value in \n",
    "               cf_matrix.flatten()/np.sum(cf_matrix)]\n",
    "\n",
    "labels = [f\"{v1}\\n{v2}\\n{v3}\" for v1, v2, v3 in \n",
    "         zip(group_names, group_counts,group_percentages)]\n",
    "\n",
    "labels = np.asarray(labels).reshape(2,2)"
   ]
  },
  {
   "cell_type": "code",
   "execution_count": null,
   "id": "1fc42c0a",
   "metadata": {},
   "outputs": [],
   "source": [
    "# Final confusion matrix\n",
    "# ==============================================================================\n",
    "\n",
    "plt.figure(figsize = (8,5))\n",
    "\n",
    "ax = sns.heatmap(cf_matrix, annot= labels, fmt = '', cmap='Blues')\n",
    "ax.set_title('Seaborn Confusion Matrix with labels\\n\\n');\n",
    "ax.set_xlabel('\\nPredicted Values')\n",
    "ax.set_ylabel('Actual Values ');\n",
    "\n",
    "## Ticket labels - List must be in alphabetical order\n",
    "ax.yaxis.set_ticklabels(['False', 'True'])\n",
    "ax.yaxis.set_ticklabels(['False', 'True'])\n",
    "\n",
    "## Display the visualization of the Confusion Matrix\n",
    "plt.show()"
   ]
  },
  {
   "cell_type": "markdown",
   "id": "23a4321f",
   "metadata": {},
   "source": [
    "# Interpretation"
   ]
  },
  {
   "cell_type": "code",
   "execution_count": null,
   "id": "91a78824",
   "metadata": {},
   "outputs": [],
   "source": [
    "train_idx, test_idx = next(skf.split(X,y))"
   ]
  },
  {
   "cell_type": "code",
   "execution_count": null,
   "id": "cfa01889",
   "metadata": {},
   "outputs": [],
   "source": [
    "# Feature ranking using permutation Feature Importance\n",
    "# ==============================================================================\n",
    "\n",
    "feature_ranking = permutation_importance(ensemble, x_scaled[train_index], y[train_index],n_repeats = 100)"
   ]
  },
  {
   "cell_type": "code",
   "execution_count": null,
   "id": "d65c6d24",
   "metadata": {},
   "outputs": [],
   "source": [
    "# Ordering the feature by their relevance\n",
    "# ==============================================================================\n",
    "\n",
    "perm_sorted_idx = feature_ranking.importances_mean.argsort()"
   ]
  },
  {
   "cell_type": "code",
   "execution_count": null,
   "id": "ffe570bc",
   "metadata": {},
   "outputs": [],
   "source": [
    "# Plot the feature ranking using permutation Feature Importance\n",
    "# ==============================================================================\n",
    "\n",
    "plt.figure(figsize=(15,8))\n",
    "plt.boxplot(feature_ranking.importances[perm_sorted_idx].T, vert=False,\n",
    "           labels = df_fraude_creditcard.iloc[:, :-1].columns[perm_sorted_idx])\n",
    "plt.show()"
   ]
  },
  {
   "cell_type": "markdown",
   "id": "39551443",
   "metadata": {},
   "source": [
    "The TOP 3 is composed by:\n",
    "    1. Ratio-to_median_purchase_price\n",
    "    2. online_order\n",
    "    3. repeat_retailer\n",
    "\n",
    "En una segunda instancia del trabajo, se podría no considerar las variables \"used_chip\" y \"used_pin_number\" ya que las mismas no parecen tener mucha importancia"
   ]
  }
 ],
 "metadata": {
  "kernelspec": {
   "display_name": "Python 3 (ipykernel)",
   "language": "python",
   "name": "python3"
  },
  "language_info": {
   "codemirror_mode": {
    "name": "ipython",
    "version": 3
   },
   "file_extension": ".py",
   "mimetype": "text/x-python",
   "name": "python",
   "nbconvert_exporter": "python",
   "pygments_lexer": "ipython3",
   "version": "3.9.7"
  }
 },
 "nbformat": 4,
 "nbformat_minor": 5
}
